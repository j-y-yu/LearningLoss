{
 "cells": [
  {
   "cell_type": "code",
   "execution_count": 1,
   "id": "9b13890b",
   "metadata": {},
   "outputs": [],
   "source": [
    "import pandas as pd\n",
    "import numpy as np\n",
    "import seaborn as sns\n",
    "import matplotlib.pyplot as plt"
   ]
  },
  {
   "cell_type": "markdown",
   "id": "62b2ccf4",
   "metadata": {},
   "source": [
    "# [Census Block Group 2010 TX](https://schoolsdata2-93b5c-tea-texas.opendata.arcgis.com/datasets/census-block-group-2010-tx/) #\n",
    "\n",
    "2010 Census Block Group data(County Level) in Texas from [Texas Education Agency Public Open Data Site](https://schoolsdata2-tea-texas.opendata.arcgis.com/).\n",
    "\n",
    "Refer [Census_Block_Group_2010_TX_variables.csv](Census_Block_Group_2010_TX_variables.csv) for datailed description."
   ]
  },
  {
   "cell_type": "markdown",
   "id": "cd01c4f9",
   "metadata": {},
   "source": [
    "## Loading Data ##"
   ]
  },
  {
   "cell_type": "code",
   "execution_count": 2,
   "id": "a43857c6",
   "metadata": {},
   "outputs": [
    {
     "name": "stdout",
     "output_type": "stream",
     "text": [
      "Shape: (15800, 57)\n",
      "<class 'pandas.core.frame.DataFrame'>\n",
      "RangeIndex: 15800 entries, 0 to 15799\n",
      "Data columns (total 57 columns):\n",
      " #   Column         Non-Null Count  Dtype  \n",
      "---  ------         --------------  -----  \n",
      " 0   OBJECTID_1     15800 non-null  int64  \n",
      " 1   OBJECTID       15800 non-null  int64  \n",
      " 2   STATE_FIPS     15800 non-null  int64  \n",
      " 3   CNTY_FIPS      15800 non-null  int64  \n",
      " 4   STCOFIPS       15800 non-null  int64  \n",
      " 5   TRACT          15800 non-null  int64  \n",
      " 6   BLKGRP         15800 non-null  int64  \n",
      " 7   FIPS           15800 non-null  float64\n",
      " 8   POPULATION     15800 non-null  int64  \n",
      " 9   POP_SQMI       15800 non-null  float64\n",
      " 10  POP2010        15800 non-null  int64  \n",
      " 11  POP10_SQMI     15800 non-null  float64\n",
      " 12  WHITE          15800 non-null  int64  \n",
      " 13  BLACK          15800 non-null  int64  \n",
      " 14  AMERI_ES       15800 non-null  int64  \n",
      " 15  ASIAN          15800 non-null  int64  \n",
      " 16  HAWN_PI        15800 non-null  int64  \n",
      " 17  HISPANIC       15800 non-null  int64  \n",
      " 18  OTHER          15800 non-null  int64  \n",
      " 19  MULT_RACE      15800 non-null  int64  \n",
      " 20  MALES          15800 non-null  int64  \n",
      " 21  FEMALES        15800 non-null  int64  \n",
      " 22  AGE_UNDER5     15800 non-null  int64  \n",
      " 23  AGE_5_9        15800 non-null  int64  \n",
      " 24  AGE_10_14      15800 non-null  int64  \n",
      " 25  AGE_15_19      15800 non-null  int64  \n",
      " 26  AGE_20_24      15800 non-null  int64  \n",
      " 27  AGE_25_34      15800 non-null  int64  \n",
      " 28  AGE_35_44      15800 non-null  int64  \n",
      " 29  AGE_45_54      15800 non-null  int64  \n",
      " 30  AGE_55_64      15800 non-null  int64  \n",
      " 31  AGE_65_74      15800 non-null  int64  \n",
      " 32  AGE_75_84      15800 non-null  int64  \n",
      " 33  AGE_85_UP      15800 non-null  int64  \n",
      " 34  MED_AGE        15800 non-null  float64\n",
      " 35  MED_AGE_M      15800 non-null  float64\n",
      " 36  MED_AGE_F      15800 non-null  float64\n",
      " 37  HOUSEHOLDS     15800 non-null  int64  \n",
      " 38  AVE_HH_SZ      15800 non-null  float64\n",
      " 39  HSEHLD_1_M     15800 non-null  int64  \n",
      " 40  HSEHLD_1_F     15800 non-null  int64  \n",
      " 41  MARHH_CHD      15800 non-null  int64  \n",
      " 42  MARHH_NO_C     15800 non-null  int64  \n",
      " 43  MHH_CHILD      15800 non-null  int64  \n",
      " 44  FHH_CHILD      15800 non-null  int64  \n",
      " 45  FAMILIES       15800 non-null  int64  \n",
      " 46  AVE_FAM_SZ     15800 non-null  float64\n",
      " 47  HSE_UNITS      15800 non-null  int64  \n",
      " 48  VACANT         15800 non-null  int64  \n",
      " 49  OWNER_OCC      15800 non-null  int64  \n",
      " 50  RENTER_OCC     15800 non-null  int64  \n",
      " 51  SQMI           15800 non-null  float64\n",
      " 52  Shape_Leng     15800 non-null  float64\n",
      " 53  Shape__Area    15800 non-null  float64\n",
      " 54  Shape__Length  15800 non-null  float64\n",
      " 55  sum            15800 non-null  float64\n",
      " 56  compare        15800 non-null  float64\n",
      "dtypes: float64(14), int64(43)\n",
      "memory usage: 6.9 MB\n"
     ]
    }
   ],
   "source": [
    "df = pd.read_csv('Census_Block_Group_2010_TX.csv')\n",
    "print('Shape:', df.shape)\n",
    "df.info()"
   ]
  },
  {
   "cell_type": "markdown",
   "id": "76220be6",
   "metadata": {},
   "source": [
    "Renaming neccessary columns with proper names"
   ]
  },
  {
   "cell_type": "code",
   "execution_count": 3,
   "id": "2c3702c3",
   "metadata": {
    "scrolled": true
   },
   "outputs": [],
   "source": [
    "cols_old = ['STCOFIPS',\n",
    "'POP2010',\n",
    "'WHITE',\n",
    "'BLACK',\n",
    "'ASIAN',\n",
    "'HISPANIC',\n",
    "'MALES',\n",
    "'FEMALES',\n",
    "'AGE_UNDER5',\n",
    "'AGE_5_9',\n",
    "'AGE_10_14',\n",
    "'AGE_15_19',\n",
    "'AGE_20_24',\n",
    "'AGE_25_34',\n",
    "'AGE_35_44',\n",
    "'AGE_45_54',\n",
    "'AGE_55_64',\n",
    "'AGE_65_74',\n",
    "'AGE_75_84',\n",
    "'AGE_85_UP',\n",
    "'MED_AGE',\n",
    "'MED_AGE_M',\n",
    "'MED_AGE_F',\n",
    "'HOUSEHOLDS',\n",
    "'AVE_HH_SZ',\n",
    "'HSEHLD_1_M',\n",
    "'HSEHLD_1_F',\n",
    "'MARHH_CHD',\n",
    "'MARHH_NO_C',\n",
    "'MHH_CHILD',\n",
    "'FHH_CHILD',\n",
    "'FAMILIES',\n",
    "'AVE_FAM_SZ',\n",
    "'HSE_UNITS',\n",
    "'VACANT',\n",
    "'OWNER_OCC',\n",
    "'RENTER_OCC']\n",
    "cols_new = ['County #',\n",
    "            'Population 10',\n",
    "            'White Pop 10',\n",
    "            'Black Pop 10',\n",
    "            'Asian Pop 10',\n",
    "            'Hispanic Pop 10',\n",
    "            'Male Pop 10',\n",
    "            'Female Pop 10',\n",
    "            'Age 0-4 Pop 10',\n",
    "            'Age 5-9 Pop 10',\n",
    "            'Age 10-14 Pop 10',\n",
    "            'Age 15-19 Pop 10',\n",
    "            'Age 20-24 Pop 10',\n",
    "            'Age 25-34 Pop 10',\n",
    "            'Age 35-44 Pop 10',\n",
    "            'Age 45-54 Pop 10',\n",
    "            'Age 55-64 Pop 10',\n",
    "            'Age 65-74 Pop 10',\n",
    "            'Age 75-84 Pop 10',\n",
    "            'Age 85-Up Pop 10',\n",
    "            'Median Age 10',\n",
    "            'Median Age Male 10',\n",
    "            'Median Age Female 10',\n",
    "            '# of Households 10',\n",
    "            'Avg Household Size 10',\n",
    "            'HH 1 Male 10',\n",
    "            'HH 1 Female 10',\n",
    "            'HH Married-Child 10',\n",
    "            'HH Married-noChild 10',\n",
    "            'HH Male-Child 10',\n",
    "            'HH Female-Child 10',\n",
    "            '# of Families 10',\n",
    "            'Avg Family Size 10',\n",
    "            '# of Housing Units 10',\n",
    "            'Housing Vacant 10',\n",
    "            'Housing Owner Occup 10',\n",
    "            'Housing Renter Occup 10']"
   ]
  },
  {
   "cell_type": "code",
   "execution_count": 5,
   "id": "bfaf5bee",
   "metadata": {},
   "outputs": [
    {
     "data": {
      "text/plain": [
       "Index(['OBJECTID_1', 'OBJECTID', 'STATE_FIPS', 'CNTY_FIPS', 'County #',\n",
       "       'TRACT', 'BLKGRP', 'FIPS', 'POPULATION', 'POP_SQMI', 'Population 10',\n",
       "       'POP10_SQMI', 'White Pop 10', 'Black Pop 10', 'AMERI_ES',\n",
       "       'Asian Pop 10', 'HAWN_PI', 'Hispanic Pop 10', 'OTHER', 'MULT_RACE',\n",
       "       'Male Pop 10', 'Female Pop 10', 'Age 0-4 Pop 10', 'Age 5-9 Pop 10',\n",
       "       'Age 10-14 Pop 10', 'Age 15-19 Pop 10', 'Age 20-24 Pop 10',\n",
       "       'Age 25-34 Pop 10', 'Age 35-44 Pop 10', 'Age 45-54 Pop 10',\n",
       "       'Age 55-64 Pop 10', 'Age 65-74 Pop 10', 'Age 75-84 Pop 10',\n",
       "       'Age 85-Up Pop 10', 'Median Age 10', 'Median Age Male 10',\n",
       "       'Median Age Female 10', '# of Households 10', 'Avg Household Size 10',\n",
       "       'HH 1 Male 10', 'HH 1 Female 10', 'HH Married-Child 10',\n",
       "       'HH Married-noChild 10', 'HH Male-Child 10', 'HH Female-Child 10',\n",
       "       '# of Families 10', 'Avg Family Size 10', '# of Housing Units 10',\n",
       "       'Housing Vacant 10', 'Housing Owner Occup 10',\n",
       "       'Housing Renter Occup 10', 'SQMI', 'Shape_Leng', 'Shape__Area',\n",
       "       'Shape__Length', 'sum', 'compare'],\n",
       "      dtype='object')"
      ]
     },
     "execution_count": 5,
     "metadata": {},
     "output_type": "execute_result"
    }
   ],
   "source": [
    "df.rename(columns=dict(zip(cols_old, cols_new)), inplace=True)\n",
    "df.columns"
   ]
  },
  {
   "cell_type": "markdown",
   "id": "cbce6587",
   "metadata": {},
   "source": [
    "As per Block Group data, neccessary columns are aggregated to county level with proper aggregations. All columns are aggregated with sum(), except below that are aggregated to mean():\n",
    "\n",
    "- `Median Age`\n",
    "- `Median Age Male`\n",
    "- `Median Age Female`\n",
    "- `Avg Household Size`\n",
    "- `Avg Family Size`"
   ]
  },
  {
   "cell_type": "code",
   "execution_count": 6,
   "id": "a707d0de",
   "metadata": {},
   "outputs": [
    {
     "data": {
      "text/plain": [
       "'sum'"
      ]
     },
     "execution_count": 6,
     "metadata": {},
     "output_type": "execute_result"
    }
   ],
   "source": [
    "cols_mean = ['Median Age',\n",
    "            'Median Age Male',\n",
    "            'Median Age Female',\n",
    "            'Avg Household Size',\n",
    "            'Avg Family Size']\n",
    "cols_agg = {c: 'mean' if c in cols_mean else 'sum' for c in cols_new}\n",
    "cols_agg.pop('County #')"
   ]
  },
  {
   "cell_type": "code",
   "execution_count": 7,
   "id": "03577ce9",
   "metadata": {},
   "outputs": [
    {
     "name": "stdout",
     "output_type": "stream",
     "text": [
      "<class 'pandas.core.frame.DataFrame'>\n",
      "RangeIndex: 254 entries, 0 to 253\n",
      "Data columns (total 37 columns):\n",
      " #   Column                   Non-Null Count  Dtype  \n",
      "---  ------                   --------------  -----  \n",
      " 0   County #                 254 non-null    int64  \n",
      " 1   Population 10            254 non-null    int64  \n",
      " 2   White Pop 10             254 non-null    int64  \n",
      " 3   Black Pop 10             254 non-null    int64  \n",
      " 4   Asian Pop 10             254 non-null    int64  \n",
      " 5   Hispanic Pop 10          254 non-null    int64  \n",
      " 6   Male Pop 10              254 non-null    int64  \n",
      " 7   Female Pop 10            254 non-null    int64  \n",
      " 8   Age 0-4 Pop 10           254 non-null    int64  \n",
      " 9   Age 5-9 Pop 10           254 non-null    int64  \n",
      " 10  Age 10-14 Pop 10         254 non-null    int64  \n",
      " 11  Age 15-19 Pop 10         254 non-null    int64  \n",
      " 12  Age 20-24 Pop 10         254 non-null    int64  \n",
      " 13  Age 25-34 Pop 10         254 non-null    int64  \n",
      " 14  Age 35-44 Pop 10         254 non-null    int64  \n",
      " 15  Age 45-54 Pop 10         254 non-null    int64  \n",
      " 16  Age 55-64 Pop 10         254 non-null    int64  \n",
      " 17  Age 65-74 Pop 10         254 non-null    int64  \n",
      " 18  Age 75-84 Pop 10         254 non-null    int64  \n",
      " 19  Age 85-Up Pop 10         254 non-null    int64  \n",
      " 20  Median Age 10            254 non-null    float64\n",
      " 21  Median Age Male 10       254 non-null    float64\n",
      " 22  Median Age Female 10     254 non-null    float64\n",
      " 23  # of Households 10       254 non-null    int64  \n",
      " 24  Avg Household Size 10    254 non-null    float64\n",
      " 25  HH 1 Male 10             254 non-null    int64  \n",
      " 26  HH 1 Female 10           254 non-null    int64  \n",
      " 27  HH Married-Child 10      254 non-null    int64  \n",
      " 28  HH Married-noChild 10    254 non-null    int64  \n",
      " 29  HH Male-Child 10         254 non-null    int64  \n",
      " 30  HH Female-Child 10       254 non-null    int64  \n",
      " 31  # of Families 10         254 non-null    int64  \n",
      " 32  Avg Family Size 10       254 non-null    float64\n",
      " 33  # of Housing Units 10    254 non-null    int64  \n",
      " 34  Housing Vacant 10        254 non-null    int64  \n",
      " 35  Housing Owner Occup 10   254 non-null    int64  \n",
      " 36  Housing Renter Occup 10  254 non-null    int64  \n",
      "dtypes: float64(5), int64(32)\n",
      "memory usage: 73.5 KB\n"
     ]
    }
   ],
   "source": [
    "df_county = df.groupby('County #', as_index=False).agg(cols_agg)\n",
    "df_county.info()"
   ]
  },
  {
   "cell_type": "code",
   "execution_count": 8,
   "id": "1b793bdd",
   "metadata": {},
   "outputs": [],
   "source": [
    "df_county.to_csv('DATA_Census_Block_Group_2010_TX_County.csv', index=False)"
   ]
  }
 ],
 "metadata": {
  "kernelspec": {
   "display_name": "Python 3 (ipykernel)",
   "language": "python",
   "name": "python3"
  },
  "language_info": {
   "codemirror_mode": {
    "name": "ipython",
    "version": 3
   },
   "file_extension": ".py",
   "mimetype": "text/x-python",
   "name": "python",
   "nbconvert_exporter": "python",
   "pygments_lexer": "ipython3",
   "version": "3.9.12"
  }
 },
 "nbformat": 4,
 "nbformat_minor": 5
}
