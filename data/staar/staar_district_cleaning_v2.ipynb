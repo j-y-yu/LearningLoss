{
 "cells": [
  {
   "cell_type": "markdown",
   "metadata": {},
   "source": [
    "# STAAR DISTRICT LEVEL CLEANING NOTEBOOK"
   ]
  },
  {
   "cell_type": "markdown",
   "metadata": {},
   "source": [
    "**v2 UPDATE**  \n",
    "- Downloaded raw data from [STAAR Aggregate Level Data for 2018-2019](https://tea.texas.gov/student-assessment/testing/staar/staar-aggregate-data-for-2018-2019) and [STAAR Aggregate Level Data for 2020-2021](https://tea.texas.gov/student-assessment/testing/staar/staar-aggregate-data-for-2020-2021)"
   ]
  },
  {
   "cell_type": "markdown",
   "metadata": {},
   "source": [
    "***Import libraries:***"
   ]
  },
  {
   "cell_type": "code",
   "execution_count": 1,
   "metadata": {},
   "outputs": [],
   "source": [
    "import pandas as pd\n",
    "import numpy as np\n",
    "import seaborn as sns\n",
    "import matplotlib.pyplot as plt\n",
    "\n",
    "pd.options.display.max_rows = 4000\n",
    "pd.options.display.max_columns = 200"
   ]
  },
  {
   "cell_type": "markdown",
   "metadata": {},
   "source": [
    "Let's make sure we have the data in this folder, in order to read it in properly..."
   ]
  },
  {
   "cell_type": "code",
   "execution_count": 2,
   "metadata": {},
   "outputs": [
    {
     "name": "stdout",
     "output_type": "stream",
     "text": [
      "DATA_STAAR_DISTRICT_2019.csv      staar_g5_district21.dat\r\n",
      "DATA_STAAR_DISTRICT_2021.csv      staar_g6_district19.dat\r\n",
      "staar_district_cleaning_v2.ipynb  staar_g6_district21.dat\r\n",
      "staar_g3_district19.dat           staar_g7_district19.dat\r\n",
      "staar_g3_district21.dat           staar_g7_district21.dat\r\n",
      "staar_g4_district19.dat           staar_g8_district19.dat\r\n",
      "staar_g4_district21.dat           staar_g8_district21.dat\r\n",
      "staar_g5_district19.dat\r\n"
     ]
    }
   ],
   "source": [
    "ls"
   ]
  },
  {
   "cell_type": "markdown",
   "metadata": {},
   "source": [
    "Data collected from [names link](https://tea.texas.gov/student-assessment/testing/staar/staar-variables-formats-and-descriptions) and [data link](https://tea.texas.gov/student-assessment/testing/staar/staar-aggregate-data)"
   ]
  },
  {
   "cell_type": "markdown",
   "metadata": {},
   "source": [
    "Update file names"
   ]
  },
  {
   "cell_type": "code",
   "execution_count": 3,
   "metadata": {},
   "outputs": [],
   "source": [
    "import os"
   ]
  },
  {
   "cell_type": "code",
   "execution_count": 4,
   "metadata": {},
   "outputs": [],
   "source": [
    "for num in range(3, 9):\n",
    "    old_name = '_dfy19e'+ str(num) + '.dat'\n",
    "    new_name = 'staar_g'+ str(num) + '_district19.dat'\n",
    "    if os.path.exists(old_name): os.rename(old_name, new_name)\n",
    "    old_name = 'dfy21e'+ str(num) + '.dat'\n",
    "    new_name = 'staar_g'+ str(num) + '_district21.dat'\n",
    "    if os.path.exists(old_name): os.rename(old_name, new_name)"
   ]
  },
  {
   "cell_type": "markdown",
   "metadata": {},
   "source": [
    "***Data Reading:***"
   ]
  },
  {
   "cell_type": "code",
   "execution_count": 5,
   "metadata": {},
   "outputs": [],
   "source": [
    "cols_staar = ['DISTRICT',\n",
    "            'r_all_rs',\n",
    "            'r_ti1y_rs',\n",
    "            'r_ecoy_rs',\n",
    "            'r_eco1_rs',\n",
    "            'r_etha_rs',\n",
    "            'r_ethh_rs',\n",
    "            'r_ethb_rs',\n",
    "            'r_ethw_rs',\n",
    "            'r_spey_rs',\n",
    "            'r_all_d',\n",
    "            'r_ti1y_d',\n",
    "            'r_ecoy_d',\n",
    "            'r_eco1_d',\n",
    "            'r_etha_d',\n",
    "            'r_ethh_d',\n",
    "            'r_ethb_d',\n",
    "            'r_ethw_d',\n",
    "            'r_spey_d',\n",
    "            'm_all_rs',\n",
    "            'm_ti1y_rs',\n",
    "            'm_ecoy_rs',\n",
    "            'm_eco1_rs',\n",
    "            'm_etha_rs',\n",
    "            'm_ethh_rs',\n",
    "            'm_ethb_rs',\n",
    "            'm_ethw_rs',\n",
    "            'm_spey_rs',\n",
    "            'm_all_d',\n",
    "            'm_ti1y_d',\n",
    "            'm_ecoy_d',\n",
    "            'm_eco1_d',\n",
    "            'm_etha_d',\n",
    "            'm_ethh_d',\n",
    "            'm_ethb_d',\n",
    "            'm_ethw_d',\n",
    "            'm_spey_d']"
   ]
  },
  {
   "cell_type": "code",
   "execution_count": 6,
   "metadata": {},
   "outputs": [],
   "source": [
    "# 2019 GRADE 3\n",
    "df_19_g3 = pd.read_csv('staar_g3_district19.dat', usecols = cols_staar)\n",
    "\n",
    "# 2019 GRADE 4\n",
    "df_19_g4 = pd.read_csv('staar_g4_district19.dat', usecols = cols_staar)\n",
    "\n",
    "# 2019 GRADE 5\n",
    "df_19_g5 = pd.read_csv('staar_g5_district19.dat', usecols = cols_staar)\n",
    "\n",
    "# 2019 GRADE 6\n",
    "df_19_g6 = pd.read_csv('staar_g6_district19.dat', usecols = cols_staar)\n",
    "\n",
    "# 2019 GRADE 7\n",
    "df_19_g7 = pd.read_csv('staar_g7_district19.dat', usecols = cols_staar)\n",
    "\n",
    "# 2019 GRADE 8\n",
    "df_19_g8 = pd.read_csv('staar_g8_district19.dat', usecols = cols_staar)"
   ]
  },
  {
   "cell_type": "code",
   "execution_count": null,
   "metadata": {},
   "outputs": [],
   "source": [
    "# 2021 GRADE 3\n",
    "df_21_g3 = pd.read_csv('staar_g3_district21.dat', usecols = cols_staar)\n",
    "\n",
    "# 2021 GRADE 4\n",
    "df_21_g4 = pd.read_csv('staar_g4_district21.dat', usecols = cols_staar)\n",
    "\n",
    "# 2021 GRADE 5\n",
    "df_21_g5 = pd.read_csv('staar_g5_district21.dat', usecols = cols_staar)\n",
    "\n",
    "# 2021 GRADE 6\n",
    "df_21_g6 = pd.read_csv('staar_g6_district21.dat', usecols = cols_staar)\n",
    "\n",
    "# 2021 GRADE 7\n",
    "df_21_g7 = pd.read_csv('staar_g7_district21.dat', usecols = cols_staar)\n",
    "\n",
    "# 2021 GRADE 8\n",
    "df_21_g8 = pd.read_csv('staar_g8_district21.dat', usecols = cols_staar)"
   ]
  },
  {
   "cell_type": "code",
   "execution_count": null,
   "metadata": {},
   "outputs": [],
   "source": [
    "print('df_19_g3 shape:', df_19_g3.shape)\n",
    "\n",
    "print('df_19_g4 shape:', df_19_g4.shape)\n",
    "\n",
    "print('df_19_g5 shape:', df_19_g5.shape)\n",
    "\n",
    "print('df_19_g6 shape:', df_19_g6.shape)\n",
    "\n",
    "print('df_19_g7 shape:', df_19_g7.shape)\n",
    "\n",
    "print('df_19_g8 shape:', df_19_g8.shape)"
   ]
  },
  {
   "cell_type": "code",
   "execution_count": null,
   "metadata": {},
   "outputs": [],
   "source": [
    "print('df_21_g3 shape:', df_21_g3.shape)\n",
    "\n",
    "print('df_21_g4 shape:', df_21_g4.shape)\n",
    "\n",
    "print('df_21_g5 shape:', df_21_g5.shape)\n",
    "\n",
    "print('df_21_g6 shape:', df_21_g6.shape)\n",
    "\n",
    "print('df_21_g7 shape:', df_21_g7.shape)\n",
    "\n",
    "print('df_21_g8 shape:', df_21_g8.shape)"
   ]
  },
  {
   "cell_type": "markdown",
   "metadata": {},
   "source": [
    "**Adding suffix for grade and year**"
   ]
  },
  {
   "cell_type": "code",
   "execution_count": null,
   "metadata": {},
   "outputs": [],
   "source": [
    "df_19_g3 = df_19_g3.add_suffix('_g3_2019')\n",
    "\n",
    "df_19_g4 = df_19_g4.add_suffix('_g4_2019')\n",
    "\n",
    "df_19_g5 = df_19_g5.add_suffix('_g5_2019')\n",
    "\n",
    "df_19_g6 = df_19_g6.add_suffix('_g6_2019')\n",
    "\n",
    "df_19_g7 = df_19_g7.add_suffix('_g7_2019')\n",
    "\n",
    "df_19_g8 = df_19_g8.add_suffix('_g8_2019')"
   ]
  },
  {
   "cell_type": "code",
   "execution_count": null,
   "metadata": {},
   "outputs": [],
   "source": [
    "df_21_g3 = df_21_g3.add_suffix('_g3_2021')\n",
    "\n",
    "df_21_g4 = df_21_g4.add_suffix('_g4_2021')\n",
    "\n",
    "df_21_g5 = df_21_g5.add_suffix('_g5_2021')\n",
    "\n",
    "df_21_g6 = df_21_g6.add_suffix('_g6_2021')\n",
    "\n",
    "df_21_g7 = df_21_g7.add_suffix('_g7_2021')\n",
    "\n",
    "df_21_g8 = df_21_g8.add_suffix('_g8_2021')"
   ]
  },
  {
   "cell_type": "code",
   "execution_count": null,
   "metadata": {},
   "outputs": [],
   "source": [
    "df_19_g3.rename(columns = {'DISTRICT_g3_2019': 'District #'}, inplace = True)\n",
    "\n",
    "df_19_g4.rename(columns = {'DISTRICT_g4_2019': 'District #'}, inplace = True)\n",
    "\n",
    "df_19_g5.rename(columns = {'DISTRICT_g5_2019': 'District #'}, inplace = True)\n",
    "\n",
    "df_19_g6.rename(columns = {'DISTRICT_g6_2019': 'District #'}, inplace = True)\n",
    "\n",
    "df_19_g7.rename(columns = {'DISTRICT_g7_2019': 'District #'}, inplace = True)\n",
    "\n",
    "df_19_g8.rename(columns = {'DISTRICT_g8_2019': 'District #'}, inplace = True)"
   ]
  },
  {
   "cell_type": "code",
   "execution_count": null,
   "metadata": {},
   "outputs": [],
   "source": [
    "df_21_g3.rename(columns = {'DISTRICT_g3_2021': 'District #'}, inplace = True)\n",
    "\n",
    "df_21_g4.rename(columns = {'DISTRICT_g4_2021': 'District #'}, inplace = True)\n",
    "\n",
    "df_21_g5.rename(columns = {'DISTRICT_g5_2021': 'District #'}, inplace = True)\n",
    "\n",
    "df_21_g6.rename(columns = {'DISTRICT_g6_2021': 'District #'}, inplace = True)\n",
    "\n",
    "df_21_g7.rename(columns = {'DISTRICT_g7_2021': 'District #'}, inplace = True)\n",
    "\n",
    "df_21_g8.rename(columns = {'DISTRICT_g8_2021': 'District #'}, inplace = True)"
   ]
  },
  {
   "cell_type": "markdown",
   "metadata": {},
   "source": [
    "**Checking number of na values**"
   ]
  },
  {
   "cell_type": "code",
   "execution_count": null,
   "metadata": {},
   "outputs": [],
   "source": [
    "print(df_19_g3['District #'].isna().sum())\n",
    "\n",
    "print(df_19_g4['District #'].isna().sum())\n",
    "\n",
    "print(df_19_g5['District #'].isna().sum())\n",
    "\n",
    "print(df_19_g6['District #'].isna().sum())\n",
    "\n",
    "print(df_19_g7['District #'].isna().sum())\n",
    "\n",
    "print(df_19_g8['District #'].isna().sum())"
   ]
  },
  {
   "cell_type": "code",
   "execution_count": null,
   "metadata": {},
   "outputs": [],
   "source": [
    "print(df_21_g3['District #'].isna().sum())\n",
    "\n",
    "print(df_21_g4['District #'].isna().sum())\n",
    "\n",
    "print(df_21_g5['District #'].isna().sum())\n",
    "\n",
    "print(df_21_g6['District #'].isna().sum())\n",
    "\n",
    "print(df_21_g7['District #'].isna().sum())\n",
    "\n",
    "print(df_21_g8['District #'].isna().sum())"
   ]
  },
  {
   "cell_type": "code",
   "execution_count": null,
   "metadata": {},
   "outputs": [],
   "source": [
    "print('\\ndf_19_g3\\n', df_19_g3.isna().sum())\n",
    "\n",
    "print('\\ndf_19_g4\\n', df_19_g4.isna().sum())\n",
    "\n",
    "print('\\ndf_19_g5\\n', df_19_g5.isna().sum())\n",
    "\n",
    "print('\\ndf_19_g6\\n', df_19_g6.isna().sum())\n",
    "\n",
    "print('\\ndf_19_g7\\n', df_19_g7.isna().sum())\n",
    "\n",
    "print('\\ndf_19_g8\\n', df_19_g8.isna().sum())"
   ]
  },
  {
   "cell_type": "code",
   "execution_count": null,
   "metadata": {},
   "outputs": [],
   "source": [
    "print('\\ndf_21_g3\\n', df_21_g3.isna().sum())\n",
    "\n",
    "print('\\ndf_21_g4\\n', df_21_g4.isna().sum())\n",
    "\n",
    "print('\\ndf_21_g5\\n', df_21_g5.isna().sum())\n",
    "\n",
    "print('\\ndf_21_g6\\n', df_21_g6.isna().sum())\n",
    "\n",
    "print('\\ndf_21_g7\\n', df_21_g7.isna().sum())\n",
    "\n",
    "print('\\ndf_21_g8\\n', df_21_g8.isna().sum())"
   ]
  },
  {
   "cell_type": "markdown",
   "metadata": {},
   "source": [
    "**Merging dataframes for year of 2019 and 2021**"
   ]
  },
  {
   "cell_type": "markdown",
   "metadata": {},
   "source": [
    "2019"
   ]
  },
  {
   "cell_type": "code",
   "execution_count": null,
   "metadata": {},
   "outputs": [],
   "source": [
    "df_2019 = pd.merge(df_19_g3, df_19_g4, how=\"outer\", on=\"District #\")"
   ]
  },
  {
   "cell_type": "code",
   "execution_count": null,
   "metadata": {},
   "outputs": [],
   "source": [
    "df_2019 = pd.merge(df_2019, df_19_g5, how=\"outer\", on=\"District #\")"
   ]
  },
  {
   "cell_type": "code",
   "execution_count": null,
   "metadata": {},
   "outputs": [],
   "source": [
    "df_2019 = pd.merge(df_2019, df_19_g6, how=\"outer\", on=\"District #\")"
   ]
  },
  {
   "cell_type": "code",
   "execution_count": null,
   "metadata": {},
   "outputs": [],
   "source": [
    "df_2019 = pd.merge(df_2019, df_19_g7, how=\"outer\", on=\"District #\")"
   ]
  },
  {
   "cell_type": "code",
   "execution_count": null,
   "metadata": {},
   "outputs": [],
   "source": [
    "df_2019 = pd.merge(df_2019, df_19_g8, how=\"outer\", on=\"District #\")"
   ]
  },
  {
   "cell_type": "code",
   "execution_count": null,
   "metadata": {},
   "outputs": [],
   "source": [
    "print(df_2019.info())"
   ]
  },
  {
   "cell_type": "code",
   "execution_count": null,
   "metadata": {},
   "outputs": [],
   "source": [
    "df_2019.isna().sum()"
   ]
  },
  {
   "cell_type": "markdown",
   "metadata": {},
   "source": [
    "2021"
   ]
  },
  {
   "cell_type": "code",
   "execution_count": null,
   "metadata": {},
   "outputs": [],
   "source": [
    "df_2021 = pd.merge(df_21_g3, df_21_g4, how=\"outer\", on=\"District #\")"
   ]
  },
  {
   "cell_type": "code",
   "execution_count": null,
   "metadata": {},
   "outputs": [],
   "source": [
    "df_2021 = pd.merge(df_2021, df_21_g5, how=\"outer\", on=\"District #\")"
   ]
  },
  {
   "cell_type": "code",
   "execution_count": null,
   "metadata": {},
   "outputs": [],
   "source": [
    "df_2021 = pd.merge(df_2021, df_21_g6, how=\"outer\", on=\"District #\")"
   ]
  },
  {
   "cell_type": "code",
   "execution_count": null,
   "metadata": {},
   "outputs": [],
   "source": [
    "df_2021 = pd.merge(df_2021, df_21_g7, how=\"outer\", on=\"District #\")"
   ]
  },
  {
   "cell_type": "code",
   "execution_count": null,
   "metadata": {},
   "outputs": [],
   "source": [
    "df_2021 = pd.merge(df_2021, df_21_g8, how=\"outer\", on=\"District #\")"
   ]
  },
  {
   "cell_type": "code",
   "execution_count": null,
   "metadata": {},
   "outputs": [],
   "source": [
    "print(df_2021.info())"
   ]
  },
  {
   "cell_type": "code",
   "execution_count": null,
   "metadata": {},
   "outputs": [],
   "source": [
    "df_2021.isna().sum()"
   ]
  },
  {
   "cell_type": "markdown",
   "metadata": {},
   "source": [
    "**Saving as csv**"
   ]
  },
  {
   "cell_type": "code",
   "execution_count": null,
   "metadata": {},
   "outputs": [],
   "source": [
    "df_2019.to_csv('DATA_STAAR_DISTRICT_2019.csv', index = None)"
   ]
  },
  {
   "cell_type": "code",
   "execution_count": null,
   "metadata": {},
   "outputs": [],
   "source": [
    "df_2021.to_csv('DATA_STAAR_DISTRICT_2021.csv', index = None)"
   ]
  },
  {
   "cell_type": "markdown",
   "metadata": {},
   "source": [
    "**===========Cleaning Done**==========="
   ]
  },
  {
   "cell_type": "code",
   "execution_count": null,
   "metadata": {},
   "outputs": [],
   "source": [
    "plotdata = pd.DataFrame({\n",
    "    \"2021 Reading\":[1391.7, 1544.6, 1452.7, 1497.5, 1497.6, 1518.75, 1496.7],\n",
    "    \"2019 Reading\":[1468.5, 1629.25, 1478.2, 0, 1523, 1545, 1521.83],\n",
    "    \"2021 Math\":[1378.3, 1583.6, 1463, 1439.5, 1480.3, 1517.75, 1481.1],\n",
    "    \"2019 Math\":[1465.3, 1667.5, 1478.5, 0, 1546.2, 1584.5, 1542.5]\n",
    "    }, \n",
    "    index=['Free Lunch', 'Asian', 'Hispanic', 'Black', 'White', 'Two or More Races', 'All Students']\n",
    ")\n",
    "plotdata.plot(kind=\"barh\")\n",
    "plt.title(\"Lake Travis ISD Grade 3 STAAR Scores\")\n",
    "plt.xlabel(\"Average STAAR Score\")\n",
    "plt.ylabel(\"\")\n",
    "plt.figure(figsize=(25,40))"
   ]
  },
  {
   "cell_type": "code",
   "execution_count": null,
   "metadata": {},
   "outputs": [],
   "source": [
    "plotdata = pd.DataFrame({\n",
    "    \"2021 Reading\":[1358.8, 1475.2, 1379.3, 1339.2, 1529.4, 1515.1, 1408.5],\n",
    "    \"2019 Reading\":[1397.75, 1539.4, 1429, 1372, 1539.9, 1551.3, 1447],\n",
    "    \"2021 Math\":[1329.9, 1516.6, 1341.9, 1299.5, 1465.3, 1475, 1368.6],\n",
    "    \"2019 Math\":[1431.2, 1586.6, 1464.1, 1390, 1551, 1558.5, 1480]\n",
    "    }, \n",
    "    index=['Free Lunch', 'Asian', 'Hispanic', 'Black', 'White', 'Two or More Races', 'All Students']\n",
    ")\n",
    "plotdata.plot(kind=\"barh\")\n",
    "plt.title(\"Austin ISD Grade 3 STAAR Scores\")\n",
    "plt.xlabel(\"Average STAAR Score\")\n",
    "plt.ylabel(\"\")\n",
    "plt.figure(figsize=(25,40))"
   ]
  },
  {
   "cell_type": "code",
   "execution_count": null,
   "metadata": {},
   "outputs": [],
   "source": [
    "plotdata = pd.DataFrame({\n",
    "    \"2021 Reading\":[0, 1783, 1678.3, 0, 1723.3, 1740, 1716.3],\n",
    "    \"2019 Reading\":[0, 1845.5, 1760.5, 1668, 1784, 1792, 1781],\n",
    "    \"2021 Math\":[0, 1863.3, 1696.3, 1676, 1750.7, 1757, 1745.7],\n",
    "    \"2019 Math\":[0, 1938, 1778.5, 1737, 1807, 1847, 1813]\n",
    "    }, \n",
    "    index=['Free Lunch', 'Asian', 'Hispanic', 'Black', 'White', 'Two or More Races', 'All Students']\n",
    ")\n",
    "plotdata.plot(kind=\"barh\")\n",
    "plt.title(\"Lake Travis ISD Grade 8 STAAR Scores\")\n",
    "plt.xlabel(\"Average STAAR Score\")\n",
    "plt.ylabel(\"\")\n",
    "plt.figure(figsize=(25,40))"
   ]
  },
  {
   "cell_type": "code",
   "execution_count": null,
   "metadata": {},
   "outputs": [],
   "source": [
    "plotdata = pd.DataFrame({\n",
    "    \"2021 Reading\":[1576.3, 1741, 1593, 1542.6, 1733.5, 1735.3, 1616.6],\n",
    "    \"2019 Reading\":[1632.7, 1776.3, 1648.7, 1622.4, 1730.1, 1779.2, 1670.9],\n",
    "    \"2021 Math\":[1548.6, 1728, 1564.9, 1534.6, 1673.3, 1697.3, 1590],\n",
    "    \"2019 Math\":[1649.3, 1817, 1658.3, 1638.9, 1738.7, 1769.9, 1677.7]\n",
    "    }, \n",
    "    index=['Free Lunch', 'Asian', 'Hispanic', 'Black', 'White', 'Two or More Races', 'All Students']\n",
    ")\n",
    "plotdata.plot(kind=\"barh\")\n",
    "plt.title(\"Austin ISD Grade 8 STAAR Scores\")\n",
    "plt.xlabel(\"Average STAAR Score\")\n",
    "plt.ylabel(\"\")\n",
    "plt.figure(figsize=(25,40))"
   ]
  },
  {
   "cell_type": "code",
   "execution_count": null,
   "metadata": {},
   "outputs": [],
   "source": [
    "plotdata = pd.DataFrame({\n",
    "    \"Free Lunch\":[0,1576.3],\n",
    "    \"Asian\":[1783,1741],\n",
    "    \"Hispanic\":[1678.3,1593],\n",
    "    \"Black\":[0,1542.6],\n",
    "    \"White\":[1723.3, 1733.5],\n",
    "    \"Two or More Races\":[1740, 1735.3],\n",
    "    \"All Students\":[1716.3, 1616.6]\n",
    "    }, \n",
    "    index=['Lake Travis', 'Austin']\n",
    ")\n",
    "plotdata.plot(kind=\"barh\")\n",
    "plt.title(\"2021 Lake Travis ISD vs Austin ISD - Grade 3 Reading STAAR Scores\")\n",
    "plt.xlabel(\"Average STAAR Score\")\n",
    "plt.ylabel(\"\")\n",
    "plt.figure(figsize=(25,40))"
   ]
  },
  {
   "cell_type": "code",
   "execution_count": null,
   "metadata": {},
   "outputs": [],
   "source": [
    "plotdata = pd.DataFrame({\n",
    "    \"Austin\":[1632.7, 1776.3, 1648.7, 1622.4, 1730.1, 1779.2, 1670.9],\n",
    "    \"Lake Travis\":[0, 1845.5, 1760.5, 1668, 1784, 1792, 1781]\n",
    "    }, \n",
    "    index=['Free Lunch', 'Asian', 'Hispanic', 'Black', 'White', 'Two or More Races', 'All Students']\n",
    ")\n",
    "plotdata.plot(kind=\"barh\")\n",
    "plt.title(\"2019 Austin ISD vs Lake Travis ISD - Reading Grade 8 STAAR Scores\")\n",
    "plt.xlabel(\"Average STAAR Score\")\n",
    "plt.ylabel(\"\")\n",
    "plt.figure(figsize=(25,40))"
   ]
  },
  {
   "cell_type": "code",
   "execution_count": null,
   "metadata": {},
   "outputs": [],
   "source": [
    "plotdata = pd.DataFrame({\n",
    "    \"Austin\":[1649.3, 1817, 1658.3, 1638.9, 1738.7, 1769.9, 1677.7],\n",
    "    \"Lake Travis\":[0, 1938, 1778.5, 1737, 1807, 1847, 1813]\n",
    "    }, \n",
    "    index=['Free Lunch', 'Asian', 'Hispanic', 'Black', 'White', 'Two or More Races', 'All Students']\n",
    ")\n",
    "plotdata.plot(kind=\"barh\")\n",
    "plt.title(\"2019 Austin ISD vs Lake Travis ISD - Math Grade 8 STAAR Scores\")\n",
    "plt.xlabel(\"Average STAAR Score\")\n",
    "plt.ylabel(\"\")\n",
    "plt.figure(figsize=(25,40))"
   ]
  }
 ],
 "metadata": {
  "interpreter": {
   "hash": "61092feec5071c5645c5e9fd8e6ed751662eaf3fad39a8c2be0e7ae1843d914b"
  },
  "kernelspec": {
   "display_name": "Python 3 (ipykernel)",
   "language": "python",
   "name": "python3"
  },
  "language_info": {
   "codemirror_mode": {
    "name": "ipython",
    "version": 3
   },
   "file_extension": ".py",
   "mimetype": "text/x-python",
   "name": "python",
   "nbconvert_exporter": "python",
   "pygments_lexer": "ipython3",
   "version": "3.7.7"
  }
 },
 "nbformat": 4,
 "nbformat_minor": 2
}
