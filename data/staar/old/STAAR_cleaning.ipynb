{
 "cells": [
  {
   "cell_type": "markdown",
   "id": "eac6da2c",
   "metadata": {},
   "source": [
    "## STAAR District Level Cleaning"
   ]
  },
  {
   "cell_type": "markdown",
   "id": "646a3be6",
   "metadata": {},
   "source": [
    "Libraries:"
   ]
  },
  {
   "cell_type": "code",
   "execution_count": 1,
   "id": "fe927f70",
   "metadata": {},
   "outputs": [],
   "source": [
    "import pandas as pd\n",
    "import numpy as np\n",
    "import seaborn as sns\n",
    "import matplotlib.pyplot as plt\n",
    "\n",
    "#pd.options.display.max_rows = 4000\n",
    "#pd.options.display.max_columns = 200"
   ]
  },
  {
   "cell_type": "markdown",
   "id": "2ee57d84",
   "metadata": {},
   "source": [
    "Data Reading:\n",
    "    Years = 2019 & 2021\n",
    "    \n",
    "STAAR Aggregate Data\n",
    "    \n",
    "    - https://tea.texas.gov/student-assessment/testing/staar/staar-aggregate-data\n",
    "\n",
    "STAAR Variables, Formats, and Descriptions\n",
    "    \n",
    "    - https://tea.texas.gov/student-assessment/testing/staar/staar-variables-formats-and-descriptions"
   ]
  },
  {
   "cell_type": "code",
   "execution_count": 2,
   "id": "23d7a656",
   "metadata": {},
   "outputs": [],
   "source": [
    "raw_columns = ['DISTRICT', \\\n",
    "              'DNAME', \\\n",
    "              'REGION', \\\n",
    "              'r_all_rs', \\\n",
    "              'r_ti1y_rs', \\\n",
    "              'r_ecoy_rs', \\\n",
    "              'r_eco1_rs', \\\n",
    "              'r_etha_rs', \\\n",
    "              'r_ethh_rs', \\\n",
    "              'r_ethb_rs', \\\n",
    "              'r_ethw_rs', \\\n",
    "              'r_spey_rs', \\\n",
    "              'r_all_d',\\\n",
    "              'r_ti1y_d', \\\n",
    "              'r_ecoy_d', \\\n",
    "              'r_eco1_d', \\\n",
    "              'r_etha_d', \\\n",
    "              'r_ethh_d', \\\n",
    "              'r_ethb_d', \\\n",
    "              'r_ethw_d', \\\n",
    "              'r_spey_d',\\\n",
    "              'm_all_rs', \\\n",
    "              'm_ti1y_rs', \\\n",
    "              'm_ecoy_rs', \\\n",
    "              'm_eco1_rs', \\\n",
    "              'm_etha_rs', \\\n",
    "              'm_ethh_rs', \\\n",
    "              'm_ethb_rs', \\\n",
    "              'm_ethw_rs', \\\n",
    "              'm_spey_rs',\\\n",
    "               'm_all_d',\\\n",
    "              'm_ti1y_d', \\\n",
    "              'm_ecoy_d', \\\n",
    "              'm_eco1_d', \\\n",
    "              'm_etha_d', \\\n",
    "              'm_ethh_d', \\\n",
    "              'm_ethb_d', \\\n",
    "              'm_ethw_d', \\\n",
    "              'm_spey_d']"
   ]
  },
  {
   "cell_type": "code",
   "execution_count": null,
   "id": "a9d0d080",
   "metadata": {},
   "outputs": [],
   "source": [
    "path = \"staar data/2018-2019/\"\n",
    "\n",
    "# 2019 GRADE 3\n",
    "\n",
    "df19_g3_eng = pd.read_csv(path+ \"dfy19e3.dat\") #English\n",
    "df19_g3_spa = pd.read_csv(path+ \"dfy19s3.dat\") #Spanish\n",
    "\n",
    "df = pd.concat([df19_g3_eng, df19_g3_spa])\n",
    "df.to_csv(path + 'g3_19.dat')\n",
    "\n",
    "\n",
    "# 2019 GRADE 4\n",
    "\n",
    "df19_g4_eng = pd.read_csv(path+ \"dfy19e4.dat\")\n",
    "df19_g4_spa = pd.read_csv(path+ \"dfy19s4.dat\")\n",
    "\n",
    "df = pd.concat([df19_g4_eng, df19_g4_spa])\n",
    "df.to_csv(path + 'g4_19.dat')\n",
    "\n",
    "# 2019 GRADE 5\n",
    "\n",
    "df19_g5_eng = pd.read_csv(path+ \"dfy19e5.dat\")\n",
    "df19_g5_spa = pd.read_csv(path+ \"dfy19s5.dat\")\n",
    "\n",
    "df = pd.concat([df19_g5_eng, df19_g5_spa])\n",
    "df.to_csv(path + 'g5_19.dat')\n"
   ]
  },
  {
   "cell_type": "code",
   "execution_count": null,
   "id": "eb96ac43",
   "metadata": {},
   "outputs": [],
   "source": [
    "path = \"staar data/2020-2021/\"\n",
    "\n",
    "# 2021 GRADE 3\n",
    "\n",
    "df19_g3_eng = pd.read_csv(path+ \"dfy21e3.dat\") #English\n",
    "df19_g3_spa = pd.read_csv(path+ \"dfy21s3.dat\") #Spanish\n",
    "\n",
    "df = pd.concat([df19_g3_eng, df19_g3_spa])\n",
    "df.to_csv(path + 'g3_21.dat')\n",
    "# 2021 GRADE 4\n",
    "\n",
    "df19_g4_eng = pd.read_csv(path+ \"dfy21e4.dat\")\n",
    "df19_g4_spa = pd.read_csv(path+ \"dfy21s4.dat\")\n",
    "\n",
    "df = pd.concat([df19_g4_eng, df19_g4_spa])\n",
    "df.to_csv(path + 'g4_21.dat')\n",
    "# 2021 GRADE 5\n",
    "\n",
    "df19_g5_eng = pd.read_csv(path+ \"dfy21e5.dat\")\n",
    "df19_g5_spa = pd.read_csv(path+ \"dfy21s5.dat\")\n",
    "\n",
    "df = pd.concat([df19_g5_eng, df19_g5_spa])\n",
    "df.to_csv(path + 'g5_21.dat')\n"
   ]
  },
  {
   "cell_type": "code",
   "execution_count": null,
   "id": "3852dcf3",
   "metadata": {},
   "outputs": [],
   "source": [
    "path = \"staar data/2018-2019/\"\n",
    "# 2019 GRADE 3\n",
    "df_19_g3 = pd.read_csv(path + 'g3_19.dat', usecols = raw_columns)\n",
    "\n",
    "# 2019 GRADE 4\n",
    "df_19_g4 = pd.read_csv(path + 'g4_19.dat', usecols = raw_columns)\n",
    "\n",
    "# 2019 GRADE 5\n",
    "df_19_g5 = pd.read_csv(path + 'g5_19.dat', usecols = raw_columns)\n",
    "\n",
    "# 2019 GRADE 6\n",
    "df_19_g6 = pd.read_csv(path + 'dfy19e6.dat', usecols = raw_columns)\n",
    "\n",
    "# 2019 GRADE 7\n",
    "df_19_g7 = pd.read_csv(path + 'dfy19e7.dat', usecols = raw_columns)\n",
    "\n",
    "# 2019 GRADE 8\n",
    "df_19_g8 = pd.read_csv(path + 'dfy19e8.dat', usecols = raw_columns)\n"
   ]
  },
  {
   "cell_type": "code",
   "execution_count": null,
   "id": "cc669901",
   "metadata": {},
   "outputs": [],
   "source": [
    "# 2021 GRADE 3\n",
    "path = \"staar data/2020-2021/\"\n",
    "df_21_g3 = pd.read_csv(path + 'g3_21.dat', usecols = raw_columns)\n",
    "\n",
    "# 2021 GRADE 4\n",
    "df_21_g4 = pd.read_csv(path + 'g4_21.dat', usecols = raw_columns)\n",
    "\n",
    "# 2021 GRADE 5\n",
    "df_21_g5 = pd.read_csv(path + 'g5_21.dat', usecols = raw_columns)\n",
    "\n",
    "# 2021 GRADE 6\n",
    "df_21_g6 = pd.read_csv(path + 'dfy21e6.dat', usecols = raw_columns)\n",
    "\n",
    "# 2021 GRADE 7\n",
    "df_21_g7 = pd.read_csv(path + 'dfy21e7.dat', usecols = raw_columns)\n",
    "\n",
    "# 2021 GRADE 8\n",
    "df_21_g8 = pd.read_csv(path + 'dfy21e8.dat', usecols = raw_columns)"
   ]
  },
  {
   "cell_type": "code",
   "execution_count": null,
   "id": "fddb85ab",
   "metadata": {},
   "outputs": [],
   "source": [
    "#df = df.rename(columns ={'district': 'DISTRICT', 'dname': 'DNAME', 'region': 'REGION'})\n",
    "#df['DISTRICT'] = df['DISTRICT'].apply(str)"
   ]
  },
  {
   "cell_type": "code",
   "execution_count": null,
   "id": "b6910cbe",
   "metadata": {},
   "outputs": [],
   "source": [
    "df.isna().any()"
   ]
  },
  {
   "cell_type": "code",
   "execution_count": null,
   "id": "83dfa82f",
   "metadata": {},
   "outputs": [],
   "source": [
    "scores_19g3 = pd.DataFrame(df_19_g3, columns = raw_columns)\n",
    "scores_19g3 = df_19_g3.add_suffix('_g3_2019')\n",
    "scores_19g3['District #'] = scores_19g3['DISTRICT_g3_2019']"
   ]
  },
  {
   "cell_type": "code",
   "execution_count": null,
   "id": "59a3dc88",
   "metadata": {},
   "outputs": [],
   "source": [
    "scores_19g3#.isna().sum()"
   ]
  },
  {
   "cell_type": "code",
   "execution_count": null,
   "id": "ecffcf91",
   "metadata": {},
   "outputs": [],
   "source": [
    "scores_19g4 = pd.DataFrame(df_19_g4, columns = raw_columns)\n",
    "scores_19g4 = df_19_g4.add_suffix('_g4_2019')\n",
    "scores_19g4['District #'] = scores_19g4['DISTRICT_g4_2019']"
   ]
  },
  {
   "cell_type": "code",
   "execution_count": null,
   "id": "46f2c80b",
   "metadata": {},
   "outputs": [],
   "source": [
    "scores_19g4"
   ]
  },
  {
   "cell_type": "code",
   "execution_count": null,
   "id": "7af18f03",
   "metadata": {},
   "outputs": [],
   "source": [
    "# isolate raw scores\n",
    "scores_19g5 = pd.DataFrame(df_19_g5, columns = raw_columns)\n",
    "scores_19g5 = scores_19g5.add_suffix('_g5_2019')\n",
    "scores_19g5['District #'] = scores_19g5['DISTRICT_g5_2019']"
   ]
  },
  {
   "cell_type": "code",
   "execution_count": null,
   "id": "a9f8cbf5",
   "metadata": {},
   "outputs": [],
   "source": [
    "scores_19g5.isna().sum()"
   ]
  },
  {
   "cell_type": "code",
   "execution_count": null,
   "id": "5ff34c5f",
   "metadata": {},
   "outputs": [],
   "source": [
    "# isolate raw scores\n",
    "scores_19g6 = pd.DataFrame(df_19_g6, columns = raw_columns)\n",
    "scores_19g6 = scores_19g6.add_suffix('_g6_2019')\n",
    "scores_19g6['District #'] = scores_19g6['DISTRICT_g6_2019']"
   ]
  },
  {
   "cell_type": "code",
   "execution_count": null,
   "id": "93958092",
   "metadata": {},
   "outputs": [],
   "source": [
    "scores_19g6"
   ]
  },
  {
   "cell_type": "code",
   "execution_count": null,
   "id": "92372743",
   "metadata": {},
   "outputs": [],
   "source": [
    "# isolate raw scores\n",
    "scores_19g7 = pd.DataFrame(df_19_g7, columns = raw_columns)\n",
    "scores_19g7 = scores_19g7.add_suffix('_g7_2019')\n",
    "scores_19g7['District #'] = scores_19g7['DISTRICT_g7_2019']"
   ]
  },
  {
   "cell_type": "code",
   "execution_count": null,
   "id": "b9a8fa75",
   "metadata": {},
   "outputs": [],
   "source": [
    "scores_19g7.isna().sum()"
   ]
  },
  {
   "cell_type": "code",
   "execution_count": null,
   "id": "f59f6f82",
   "metadata": {},
   "outputs": [],
   "source": [
    "# isolate raw scores\n",
    "scores_19g8 = pd.DataFrame(df_19_g8, columns = raw_columns)\n",
    "scores_19g8 = scores_19g8.add_suffix('_g8_2019')\n",
    "scores_19g8['District #'] = scores_19g8['DISTRICT_g8_2019']"
   ]
  },
  {
   "cell_type": "code",
   "execution_count": null,
   "id": "d500075e",
   "metadata": {},
   "outputs": [],
   "source": [
    "scores_19g8.isna().sum()"
   ]
  },
  {
   "cell_type": "code",
   "execution_count": null,
   "id": "1a4767f3",
   "metadata": {},
   "outputs": [],
   "source": [
    "# isolate raw scores\n",
    "scores_21g3 = pd.DataFrame(df_21_g3, columns = raw_columns)\n",
    "scores_21g3 = scores_21g3.add_suffix('_g3_2021')\n",
    "scores_21g3['District #'] = scores_21g3['DISTRICT_g3_2021']"
   ]
  },
  {
   "cell_type": "code",
   "execution_count": null,
   "id": "853b5bf9",
   "metadata": {},
   "outputs": [],
   "source": [
    "scores_21g3.isna().sum()"
   ]
  },
  {
   "cell_type": "code",
   "execution_count": null,
   "id": "d4a0c104",
   "metadata": {},
   "outputs": [],
   "source": [
    "# isolate raw scores\n",
    "scores_21g4 = pd.DataFrame(df_21_g4, columns = raw_columns)\n",
    "scores_21g4 = scores_21g4.add_suffix('_g4_2021')\n",
    "scores_21g4['District #'] = scores_21g4['DISTRICT_g4_2021']"
   ]
  },
  {
   "cell_type": "code",
   "execution_count": null,
   "id": "6e47ae02",
   "metadata": {},
   "outputs": [],
   "source": [
    "scores_21g4.isna().sum()"
   ]
  },
  {
   "cell_type": "code",
   "execution_count": null,
   "id": "e52947da",
   "metadata": {},
   "outputs": [],
   "source": [
    "# isolate raw scores\n",
    "scores_21g5 = pd.DataFrame(df_21_g5, columns = raw_columns)\n",
    "scores_21g5 = scores_21g5.add_suffix('_g5_2021')\n",
    "scores_21g5['District #'] = scores_21g5['DISTRICT_g5_2021']"
   ]
  },
  {
   "cell_type": "code",
   "execution_count": null,
   "id": "bdb1ba90",
   "metadata": {},
   "outputs": [],
   "source": [
    "scores_21g5.isna().sum()"
   ]
  },
  {
   "cell_type": "code",
   "execution_count": null,
   "id": "9f5d1193",
   "metadata": {},
   "outputs": [],
   "source": [
    "# isolate raw scores\n",
    "scores_21g6 = pd.DataFrame(df_21_g6, columns = raw_columns)\n",
    "scores_21g6 = scores_21g6.add_suffix('_g6_2021')\n",
    "scores_21g6['District #'] = scores_21g6['DISTRICT_g6_2021']"
   ]
  },
  {
   "cell_type": "code",
   "execution_count": null,
   "id": "087f6f7d",
   "metadata": {},
   "outputs": [],
   "source": [
    "scores_21g6.isna().sum()"
   ]
  },
  {
   "cell_type": "code",
   "execution_count": null,
   "id": "1841b669",
   "metadata": {},
   "outputs": [],
   "source": [
    "# isolate raw scores\n",
    "scores_21g7 = pd.DataFrame(df_21_g7, columns = raw_columns)\n",
    "scores_21g7 = scores_21g7.add_suffix('_g7_2021')\n",
    "scores_21g7['District #'] = scores_21g7['DISTRICT_g7_2021']"
   ]
  },
  {
   "cell_type": "code",
   "execution_count": null,
   "id": "4f8e9f48",
   "metadata": {},
   "outputs": [],
   "source": [
    "scores_21g7.isna().sum()"
   ]
  },
  {
   "cell_type": "code",
   "execution_count": null,
   "id": "8b2d0d83",
   "metadata": {},
   "outputs": [],
   "source": [
    "# isolate raw scores\n",
    "scores_21g8 = pd.DataFrame(df_21_g8, columns = raw_columns)\n",
    "scores_21g8 = scores_21g8.add_suffix('_g8_2021')\n",
    "scores_21g8['District #'] = scores_21g8['DISTRICT_g8_2021']"
   ]
  },
  {
   "cell_type": "code",
   "execution_count": null,
   "id": "4377e07a",
   "metadata": {},
   "outputs": [],
   "source": [
    "scores_21g8.isna().sum()"
   ]
  },
  {
   "cell_type": "code",
   "execution_count": null,
   "id": "765d3ac2",
   "metadata": {},
   "outputs": [],
   "source": [
    "df_2019 = pd.merge(scores_19g3, scores_19g4, how=\"outer\", on=\"District #\")\n",
    "\n",
    "df_2019 = pd.merge(df_2019, scores_19g5, how=\"outer\", on=\"District #\")\n",
    "\n",
    "df_2019 = pd.merge(df_2019, scores_19g6, how=\"outer\", on=\"District #\")\n",
    "\n",
    "df_2019 = pd.merge(df_2019, scores_19g7, how=\"outer\", on=\"District #\")\n",
    "\n",
    "df_2019 = pd.merge(df_2019, scores_19g8, how=\"outer\", on=\"District #\")\n",
    "df_2019.drop(columns = ['DISTRICT_g3_2019', \\\n",
    "                       'DISTRICT_g4_2019', \\\n",
    "                       'DISTRICT_g5_2019', \\\n",
    "                       'DISTRICT_g6_2019', \\\n",
    "                       'DISTRICT_g7_2019', \\\n",
    "                       'DISTRICT_g8_2019', \\\n",
    "                       'REGION_g3_2019', \\\n",
    "                       'REGION_g4_2019', \\\n",
    "                       'REGION_g5_2019', \\\n",
    "                       'REGION_g6_2019', \\\n",
    "                       'REGION_g7_2019', \\\n",
    "                       'REGION_g8_2019'], inplace = True)"
   ]
  },
  {
   "cell_type": "code",
   "execution_count": null,
   "id": "49af816a",
   "metadata": {
    "scrolled": true
   },
   "outputs": [],
   "source": [
    "df_2019"
   ]
  },
  {
   "cell_type": "code",
   "execution_count": null,
   "id": "cae7109b",
   "metadata": {},
   "outputs": [],
   "source": [
    "df_2021 = pd.merge(scores_21g3, scores_21g4, how=\"outer\", on=\"District #\")\n",
    "df_2021 = pd.merge(df_2021, scores_21g5, how=\"outer\", on=\"District #\")\n",
    "df_2021 = pd.merge(df_2021, scores_21g6, how=\"outer\", on=\"District #\")\n",
    "df_2021 = pd.merge(df_2021, scores_21g7, how=\"outer\", on=\"District #\")\n",
    "df_2021 = pd.merge(df_2021, scores_21g8, how=\"outer\", on=\"District #\")\n",
    "\n",
    "df_2021.drop(columns = ['DISTRICT_g3_2021', \\\n",
    "                       'DISTRICT_g4_2021', \\\n",
    "                       'DISTRICT_g5_2021', \\\n",
    "                       'DISTRICT_g6_2021', \\\n",
    "                       'DISTRICT_g7_2021', \\\n",
    "                       'DISTRICT_g8_2021', \\\n",
    "                       'REGION_g3_2021', \\\n",
    "                       'REGION_g4_2021', \\\n",
    "                       'REGION_g5_2021', \\\n",
    "                       'REGION_g6_2021', \\\n",
    "                       'REGION_g7_2021', \\\n",
    "                       'REGION_g8_2021'], inplace = True)"
   ]
  },
  {
   "cell_type": "code",
   "execution_count": null,
   "id": "c8c0867c",
   "metadata": {},
   "outputs": [],
   "source": [
    "df_2021"
   ]
  },
  {
   "cell_type": "code",
   "execution_count": 107,
   "id": "da20522a",
   "metadata": {},
   "outputs": [],
   "source": [
    "df_2021.to_csv('DATA_STAAR_DISTRICT_2021.csv', index = None)"
   ]
  },
  {
   "cell_type": "code",
   "execution_count": 108,
   "id": "ff9e9248",
   "metadata": {},
   "outputs": [],
   "source": [
    "df_2019.to_csv('DATA_STAAR_DISTRICT_2019.csv', index = None)"
   ]
  },
  {
   "cell_type": "code",
   "execution_count": 53,
   "id": "ea999ab7",
   "metadata": {},
   "outputs": [
    {
     "data": {
      "text/plain": [
       "<Figure size 1800x2880 with 0 Axes>"
      ]
     },
     "execution_count": 53,
     "metadata": {},
     "output_type": "execute_result"
    },
    {
     "data": {
      "image/png": "[encoded data removed]",
      "text/plain": [
       "<Figure size 432x288 with 1 Axes>"
      ]
     },
     "metadata": {
      "needs_background": "light"
     },
     "output_type": "display_data"
    },
    {
     "data": {
      "text/plain": [
       "<Figure size 1800x2880 with 0 Axes>"
      ]
     },
     "metadata": {},
     "output_type": "display_data"
    }
   ],
   "source": [
    "plotdata = pd.DataFrame({\n",
    "    \"2021 Reading\":[1391.7, 1544.6, 1452.7, 1497.5, 1497.6, 1518.75, 1496.7],\n",
    "    \"2019 Reading\":[1468.5, 1629.25, 1478.2, 0, 1523, 1545, 1521.83],\n",
    "    \"2021 Math\":[1378.3, 1583.6, 1463, 1439.5, 1480.3, 1517.75, 1481.1],\n",
    "    \"2019 Math\":[1465.3, 1667.5, 1478.5, 0, 1546.2, 1584.5, 1542.5]\n",
    "    }, \n",
    "    index=['Free Lunch', 'Asian', 'Hispanic', 'Black', 'White', 'Two or More Races', 'All Students']\n",
    ")\n",
    "plotdata.plot(kind=\"barh\")\n",
    "plt.title(\"Lake Travis ISD Grade 3 STAAR Scores\")\n",
    "plt.xlabel(\"Average STAAR Score\")\n",
    "plt.ylabel(\"\")\n",
    "plt.figure(figsize=(25,40))"
   ]
  },
  {
   "cell_type": "code",
   "execution_count": 36,
   "id": "7c2e94c0",
   "metadata": {},
   "outputs": [
    {
     "data": {
      "text/plain": [
       "<Figure size 1800x2880 with 0 Axes>"
      ]
     },
     "execution_count": 36,
     "metadata": {},
     "output_type": "execute_result"
    },
    {
     "data": {
      "image/png": "[encoded data removed]",
      "text/plain": [
       "<Figure size 432x288 with 1 Axes>"
      ]
     },
     "metadata": {
      "needs_background": "light"
     },
     "output_type": "display_data"
    },
    {
     "data": {
      "text/plain": [
       "<Figure size 1800x2880 with 0 Axes>"
      ]
     },
     "metadata": {},
     "output_type": "display_data"
    }
   ],
   "source": [
    "plotdata = pd.DataFrame({\n",
    "    \"2021 Reading\":[1358.8, 1475.2, 1379.3, 1339.2, 1529.4, 1515.1, 1408.5],\n",
    "    \"2019 Reading\":[1397.75, 1539.4, 1429, 1372, 1539.9, 1551.3, 1447],\n",
    "    \"2021 Math\":[1329.9, 1516.6, 1341.9, 1299.5, 1465.3, 1475, 1368.6],\n",
    "    \"2019 Math\":[1431.2, 1586.6, 1464.1, 1390, 1551, 1558.5, 1480]\n",
    "    }, \n",
    "    index=['Free Lunch', 'Asian', 'Hispanic', 'Black', 'White', 'Two or More Races', 'All Students']\n",
    ")\n",
    "plotdata.plot(kind=\"barh\")\n",
    "plt.title(\"Austin ISD Grade 3 STAAR Scores\")\n",
    "plt.xlabel(\"Average STAAR Score\")\n",
    "plt.ylabel(\"\")\n",
    "plt.figure(figsize=(25,40))\n",
    "\n"
   ]
  },
  {
   "cell_type": "code",
   "execution_count": 37,
   "id": "08a6ee7e",
   "metadata": {},
   "outputs": [
    {
     "data": {
      "text/plain": [
       "<Figure size 1800x2880 with 0 Axes>"
      ]
     },
     "execution_count": 37,
     "metadata": {},
     "output_type": "execute_result"
    },
    {
     "data": {
      "image/png": "[encoded data removed]",
      "text/plain": [
       "<Figure size 432x288 with 1 Axes>"
      ]
     },
     "metadata": {
      "needs_background": "light"
     },
     "output_type": "display_data"
    },
    {
     "data": {
      "text/plain": [
       "<Figure size 1800x2880 with 0 Axes>"
      ]
     },
     "metadata": {},
     "output_type": "display_data"
    }
   ],
   "source": [
    "plotdata = pd.DataFrame({\n",
    "    \"2021 Reading\":[0, 1783, 1678.3, 0, 1723.3, 1740, 1716.3],\n",
    "    \"2019 Reading\":[0, 1845.5, 1760.5, 1668, 1784, 1792, 1781],\n",
    "    \"2021 Math\":[0, 1863.3, 1696.3, 1676, 1750.7, 1757, 1745.7],\n",
    "    \"2019 Math\":[0, 1938, 1778.5, 1737, 1807, 1847, 1813]\n",
    "    }, \n",
    "    index=['Free Lunch', 'Asian', 'Hispanic', 'Black', 'White', 'Two or More Races', 'All Students']\n",
    ")\n",
    "plotdata.plot(kind=\"barh\")\n",
    "plt.title(\"Lake Travis ISD Grade 8 STAAR Scores\")\n",
    "plt.xlabel(\"Average STAAR Score\")\n",
    "plt.ylabel(\"\")\n",
    "plt.figure(figsize=(25,40))"
   ]
  },
  {
   "cell_type": "code",
   "execution_count": 38,
   "id": "f0f1f46d",
   "metadata": {},
   "outputs": [
    {
     "data": {
      "text/plain": [
       "<Figure size 1800x2880 with 0 Axes>"
      ]
     },
     "execution_count": 38,
     "metadata": {},
     "output_type": "execute_result"
    },
    {
     "data": {
      "image/png": "[encoded data removed]",
      "text/plain": [
       "<Figure size 432x288 with 1 Axes>"
      ]
     },
     "metadata": {
      "needs_background": "light"
     },
     "output_type": "display_data"
    },
    {
     "data": {
      "text/plain": [
       "<Figure size 1800x2880 with 0 Axes>"
      ]
     },
     "metadata": {},
     "output_type": "display_data"
    }
   ],
   "source": [
    "plotdata = pd.DataFrame({\n",
    "    \"2021 Reading\":[1576.3, 1741, 1593, 1542.6, 1733.5, 1735.3, 1616.6],\n",
    "    \"2019 Reading\":[1632.7, 1776.3, 1648.7, 1622.4, 1730.1, 1779.2, 1670.9],\n",
    "    \"2021 Math\":[1548.6, 1728, 1564.9, 1534.6, 1673.3, 1697.3, 1590],\n",
    "    \"2019 Math\":[1649.3, 1817, 1658.3, 1638.9, 1738.7, 1769.9, 1677.7]\n",
    "    }, \n",
    "    index=['Free Lunch', 'Asian', 'Hispanic', 'Black', 'White', 'Two or More Races', 'All Students']\n",
    ")\n",
    "plotdata.plot(kind=\"barh\")\n",
    "plt.title(\"Austin ISD Grade 8 STAAR Scores\")\n",
    "plt.xlabel(\"Average STAAR Score\")\n",
    "plt.ylabel(\"\")\n",
    "plt.figure(figsize=(25,40))"
   ]
  },
  {
   "cell_type": "code",
   "execution_count": 39,
   "id": "0d399b49",
   "metadata": {},
   "outputs": [
    {
     "data": {
      "text/plain": [
       "<Figure size 1800x2880 with 0 Axes>"
      ]
     },
     "execution_count": 39,
     "metadata": {},
     "output_type": "execute_result"
    },
    {
     "data": {
      "image/png": "[encoded data removed]",
      "text/plain": [
       "<Figure size 432x288 with 1 Axes>"
      ]
     },
     "metadata": {
      "needs_background": "light"
     },
     "output_type": "display_data"
    },
    {
     "data": {
      "text/plain": [
       "<Figure size 1800x2880 with 0 Axes>"
      ]
     },
     "metadata": {},
     "output_type": "display_data"
    }
   ],
   "source": [
    "plotdata = pd.DataFrame({\n",
    "    \"Free Lunch\":[0,1576.3],\n",
    "    \"Asian\":[1783,1741],\n",
    "    \"Hispanic\":[1678.3,1593],\n",
    "    \"Black\":[0,1542.6],\n",
    "    \"White\":[1723.3, 1733.5],\n",
    "    \"Two or More Races\":[1740, 1735.3],\n",
    "    \"All Students\":[1716.3, 1616.6]\n",
    "    }, \n",
    "    index=['Lake Travis', 'Austin']\n",
    ")\n",
    "plotdata.plot(kind=\"barh\")\n",
    "plt.title(\"2021 Lake Travis ISD vs Austin ISD - Grade 3 Reading STAAR Scores\")\n",
    "plt.xlabel(\"Average STAAR Score\")\n",
    "plt.ylabel(\"\")\n",
    "plt.figure(figsize=(25,40))"
   ]
  },
  {
   "cell_type": "code",
   "execution_count": 40,
   "id": "25288a2c",
   "metadata": {},
   "outputs": [
    {
     "data": {
      "text/plain": [
       "<Figure size 1800x2880 with 0 Axes>"
      ]
     },
     "execution_count": 40,
     "metadata": {},
     "output_type": "execute_result"
    },
    {
     "data": {
      "image/png": "[encoded data removed]",
      "text/plain": [
       "<Figure size 432x288 with 1 Axes>"
      ]
     },
     "metadata": {
      "needs_background": "light"
     },
     "output_type": "display_data"
    },
    {
     "data": {
      "text/plain": [
       "<Figure size 1800x2880 with 0 Axes>"
      ]
     },
     "metadata": {},
     "output_type": "display_data"
    }
   ],
   "source": [
    "plotdata = pd.DataFrame({\n",
    "    \"Austin\":[1632.7, 1776.3, 1648.7, 1622.4, 1730.1, 1779.2, 1670.9],\n",
    "    \"Lake Travis\":[0, 1845.5, 1760.5, 1668, 1784, 1792, 1781]\n",
    "    }, \n",
    "    index=['Free Lunch', 'Asian', 'Hispanic', 'Black', 'White', 'Two or More Races', 'All Students']\n",
    ")\n",
    "plotdata.plot(kind=\"barh\")\n",
    "plt.title(\"2019 Austin ISD vs Lake Travis ISD - Reading Grade 8 STAAR Scores\")\n",
    "plt.xlabel(\"Average STAAR Score\")\n",
    "plt.ylabel(\"\")\n",
    "plt.figure(figsize=(25,40))"
   ]
  },
  {
   "cell_type": "code",
   "execution_count": 41,
   "id": "7bf20fa2",
   "metadata": {},
   "outputs": [
    {
     "data": {
      "text/plain": [
       "<Figure size 1800x2880 with 0 Axes>"
      ]
     },
     "execution_count": 41,
     "metadata": {},
     "output_type": "execute_result"
    },
    {
     "data": {
      "image/png": "[encoded data removed]",
      "text/plain": [
       "<Figure size 432x288 with 1 Axes>"
      ]
     },
     "metadata": {
      "needs_background": "light"
     },
     "output_type": "display_data"
    },
    {
     "data": {
      "text/plain": [
       "<Figure size 1800x2880 with 0 Axes>"
      ]
     },
     "metadata": {},
     "output_type": "display_data"
    }
   ],
   "source": [
    "plotdata = pd.DataFrame({\n",
    "    \"Austin\":[1649.3, 1817, 1658.3, 1638.9, 1738.7, 1769.9, 1677.7],\n",
    "    \"Lake Travis\":[0, 1938, 1778.5, 1737, 1807, 1847, 1813]\n",
    "    }, \n",
    "    index=['Free Lunch', 'Asian', 'Hispanic', 'Black', 'White', 'Two or More Races', 'All Students']\n",
    ")\n",
    "plotdata.plot(kind=\"barh\")\n",
    "plt.title(\"2019 Austin ISD vs Lake Travis ISD - Math Grade 8 STAAR Scores\")\n",
    "plt.xlabel(\"Average STAAR Score\")\n",
    "plt.ylabel(\"\")\n",
    "plt.figure(figsize=(25,40))"
   ]
  },
  {
   "cell_type": "code",
   "execution_count": null,
   "id": "ae28d146",
   "metadata": {},
   "outputs": [],
   "source": []
  }
 ],
 "metadata": {
  "kernelspec": {
   "display_name": "Python 3 (ipykernel)",
   "language": "python",
   "name": "python3"
  },
  "language_info": {
   "codemirror_mode": {
    "name": "ipython",
    "version": 3
   },
   "file_extension": ".py",
   "mimetype": "text/x-python",
   "name": "python",
   "nbconvert_exporter": "python",
   "pygments_lexer": "ipython3",
   "version": "3.9.7"
  }
 },
 "nbformat": 4,
 "nbformat_minor": 5
}
