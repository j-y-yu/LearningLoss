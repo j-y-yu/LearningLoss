{
 "cells": [
  {
   "cell_type": "markdown",
   "id": "9de7053d",
   "metadata": {},
   "source": [
    "## Baseline Modeling for predictiong Learning Loss - Math ##"
   ]
  },
  {
   "cell_type": "markdown",
   "id": "1483cd9d",
   "metadata": {},
   "source": [
    "The baseline models are:\n",
    "- Ridge Regression\n",
    "- SVM (Linear, Kernel)\n",
    "- KNN\n",
    "- Random Forest\n",
    "- Grandient Boosting"
   ]
  },
  {
   "cell_type": "code",
   "execution_count": 1,
   "id": "7b4b382d",
   "metadata": {},
   "outputs": [],
   "source": [
    "import pandas as pd\n",
    "import numpy as np\n",
    "import seaborn as sns\n",
    "import matplotlib.pyplot as plt\n",
    "import time\n",
    "\n",
    "import warnings \n",
    "warnings.filterwarnings('ignore')"
   ]
  },
  {
   "cell_type": "code",
   "execution_count": 2,
   "id": "db4b428a",
   "metadata": {},
   "outputs": [],
   "source": [
    "from sklearn.preprocessing import StandardScaler\n",
    "from sklearn.model_selection import train_test_split, GridSearchCV, RandomizedSearchCV\n",
    "from sklearn.pipeline import Pipeline\n",
    "from sklearn.metrics import confusion_matrix, classification_report\n",
    "from sklearn.metrics import accuracy_score, balanced_accuracy_score, precision_score, recall_score, f1_score, matthews_corrcoef, roc_auc_score"
   ]
  },
  {
   "cell_type": "markdown",
   "id": "b13b966c",
   "metadata": {},
   "source": [
    "### Prepare data ###"
   ]
  },
  {
   "cell_type": "markdown",
   "id": "debca0cd",
   "metadata": {},
   "source": [
    "Loading the data cleaned from [EDA.ipynb](../processing/EDA.ipynb)"
   ]
  },
  {
   "cell_type": "code",
   "execution_count": 3,
   "id": "57ba8e00",
   "metadata": {},
   "outputs": [
    {
     "name": "stdout",
     "output_type": "stream",
     "text": [
      "(955, 90)\n"
     ]
    }
   ],
   "source": [
    "df = pd.read_csv('../processing/DATA_Texas_District_v2.csv', sep=',', header=0)\n",
    "print(df.shape)"
   ]
  },
  {
   "cell_type": "markdown",
   "id": "bb94a593",
   "metadata": {},
   "source": [
    "**Get dummies for categorical feature `Locale`**"
   ]
  },
  {
   "cell_type": "code",
   "execution_count": 4,
   "id": "1e486664",
   "metadata": {
    "scrolled": true
   },
   "outputs": [
    {
     "name": "stdout",
     "output_type": "stream",
     "text": [
      "(955, 101)\n"
     ]
    }
   ],
   "source": [
    "df = pd.get_dummies(df, columns=['Locale'], prefix='Locale')\n",
    "print(df.shape)"
   ]
  },
  {
   "cell_type": "markdown",
   "id": "9e66bdd3",
   "metadata": {},
   "source": [
    "**Split data**"
   ]
  },
  {
   "cell_type": "code",
   "execution_count": 5,
   "id": "e76202b6",
   "metadata": {
    "scrolled": true
   },
   "outputs": [
    {
     "name": "stdout",
     "output_type": "stream",
     "text": [
      "(955, 90)\n"
     ]
    }
   ],
   "source": [
    "labels = ['Label_Math', 'Label_Reading', 'Label_All']\n",
    "\n",
    "cols_drop = ['% Tested Reading G3 Diff',\n",
    "            '% Tested Reading G4 Diff',\n",
    "            '% Tested Reading G5 Diff',\n",
    "            '% Tested Reading G6 Diff',\n",
    "            '% Tested Reading G7 Diff',\n",
    "            '% Tested Reading G8 Diff',\n",
    "            'District #', 'County #']\n",
    "\n",
    "y = df['Label_Math'].values\n",
    "X = df.drop(columns=labels + cols_drop).values\n",
    "columns = df.drop(columns=labels + cols_drop).columns\n",
    "\n",
    "X_train, X_test, y_train, y_test = train_test_split(X, y, test_size=0.2, stratify=y,\n",
    "                                                    random_state=123, shuffle=True)\n",
    "print(X.shape)"
   ]
  },
  {
   "cell_type": "code",
   "execution_count": 6,
   "id": "c6c3ec58",
   "metadata": {},
   "outputs": [
    {
     "data": {
      "text/html": [
       "<div>\n",
       "<style scoped>\n",
       "    .dataframe tbody tr th:only-of-type {\n",
       "        vertical-align: middle;\n",
       "    }\n",
       "\n",
       "    .dataframe tbody tr th {\n",
       "        vertical-align: top;\n",
       "    }\n",
       "\n",
       "    .dataframe thead th {\n",
       "        text-align: right;\n",
       "    }\n",
       "</style>\n",
       "<table border=\"1\" class=\"dataframe\">\n",
       "  <thead>\n",
       "    <tr style=\"text-align: right;\">\n",
       "      <th></th>\n",
       "      <th>Label</th>\n",
       "      <th>Train</th>\n",
       "      <th>Test</th>\n",
       "    </tr>\n",
       "  </thead>\n",
       "  <tbody>\n",
       "    <tr>\n",
       "      <th>0</th>\n",
       "      <td>-1</td>\n",
       "      <td>166</td>\n",
       "      <td>41</td>\n",
       "    </tr>\n",
       "    <tr>\n",
       "      <th>1</th>\n",
       "      <td>0</td>\n",
       "      <td>412</td>\n",
       "      <td>103</td>\n",
       "    </tr>\n",
       "    <tr>\n",
       "      <th>2</th>\n",
       "      <td>1</td>\n",
       "      <td>186</td>\n",
       "      <td>47</td>\n",
       "    </tr>\n",
       "  </tbody>\n",
       "</table>\n",
       "</div>"
      ],
      "text/plain": [
       "   Label  Train  Test\n",
       "0     -1    166    41\n",
       "1      0    412   103\n",
       "2      1    186    47"
      ]
     },
     "execution_count": 6,
     "metadata": {},
     "output_type": "execute_result"
    }
   ],
   "source": [
    "values, counts = np.unique(y_train, return_counts=True)\n",
    "values_test, counts_test = np.unique(y_test, return_counts=True)\n",
    "pd.DataFrame({'Label': values.tolist(), 'Train': counts.tolist(), 'Test': counts_test.tolist()})"
   ]
  },
  {
   "cell_type": "markdown",
   "id": "3cde5d24",
   "metadata": {},
   "source": [
    "**Normalization**"
   ]
  },
  {
   "cell_type": "code",
   "execution_count": 7,
   "id": "851ae302",
   "metadata": {},
   "outputs": [],
   "source": [
    "scaler = StandardScaler()\n",
    "\n",
    "scaler.fit(X_train)\n",
    "X_train = scaler.transform(X_train)\n",
    "X_test = scaler.transform(X_test)"
   ]
  },
  {
   "cell_type": "code",
   "execution_count": 33,
   "id": "75410e1f",
   "metadata": {},
   "outputs": [],
   "source": [
    "random_state=123\n",
    "results = pd.DataFrame()"
   ]
  },
  {
   "cell_type": "markdown",
   "id": "ebfed6b7",
   "metadata": {},
   "source": [
    "### Experiment with the Feature Sets selected from [Feature_Selection_Math.ipynb](../processing/Feature_Selection_Math.ipynb) ###"
   ]
  },
  {
   "cell_type": "code",
   "execution_count": 32,
   "id": "155f454d",
   "metadata": {},
   "outputs": [
    {
     "name": "stdout",
     "output_type": "stream",
     "text": [
      "Feature Set 1: n=51 selected by 4 or more selection methods\n",
      "Feature Set 2: n=32 selected by 5 or more selection methods\n",
      "Feature Set 3: n=15 selected by 6 or more selection methods\n",
      "Feature Set 4: n=90 from No reduction\n"
     ]
    }
   ],
   "source": [
    "feature_selected = pd.read_csv('../Processing/Feature_Selection_Math_Results.csv', sep=',', header=0)\n",
    "feature_selected = feature_selected.groupby('feature', as_index=False).agg({'selected': 'sum'})\n",
    "n_selected_by = [4, 5, 6, 0]\n",
    "\n",
    "for i, n in enumerate(n_selected_by):\n",
    "    n_feat = len(columns) if n == 0 else feature_selected[feature_selected['selected']>=n].shape[0]\n",
    "    n_sel = 'from No reduction' if n ==0 else 'selected by '+str(n)+' or more selection methods'\n",
    "    print('Feature Set {}: n={} {}'.format(i+1, n_feat, n_sel))"
   ]
  },
  {
   "cell_type": "markdown",
   "id": "40be0d19",
   "metadata": {},
   "source": [
    "### Modeling ###"
   ]
  },
  {
   "cell_type": "code",
   "execution_count": 34,
   "id": "bed6e9e9",
   "metadata": {},
   "outputs": [],
   "source": [
    "def model_report(estimator, param_grid, name):\n",
    "    result = pd.DataFrame()\n",
    "    avg = 'weighted'  \n",
    "     \n",
    "    grid = GridSearchCV(estimator, param_grid=param_grid, cv=10, n_jobs=-1)\n",
    "    \n",
    "    for n in n_selected_by:\n",
    "        if n == 0:\n",
    "            features = columns \n",
    "            method = \"No Reduction\"\n",
    "        else:\n",
    "            features = feature_selected[feature_selected['selected']>=n]['feature'].to_list()\n",
    "            method = str(n)+' or more'\n",
    "            \n",
    "        index = np.argwhere(np.isin(columns, features))\n",
    "        X_train2 = X_train[:, index.flatten()]\n",
    "        X_test2 = X_test[:, index.flatten()]\n",
    "        \n",
    "        t_start = time.process_time()\n",
    "        grid.fit(X_train2, y_train)\n",
    "        train_time = time.process_time() - t_start\n",
    "        y_pred = grid.best_estimator_.predict(X_test2)\n",
    "        temp = {'Model': name,\n",
    "                'Method': method,\n",
    "                'n Selected': int(index.shape[0]),\n",
    "                'best_params': grid.best_params_,\n",
    "                'Best Accuracy': grid.best_score_, \n",
    "                'Train Accuracy': grid.best_estimator_.score(X_train2, y_train),\n",
    "                'Test Accuracy': accuracy_score(y_test, y_pred),\n",
    "                'Precision': precision_score(y_test, y_pred, average=avg),\n",
    "                'Recall': recall_score(y_test, y_pred, average=avg),\n",
    "                'F1': f1_score(y_test, y_pred, average=avg),\n",
    "                'MCC': matthews_corrcoef(y_test, y_pred), \n",
    "                'ROC': roc_auc_score(y_test, grid.best_estimator_.predict_proba(X_test2), multi_class='ovr', average=avg),\n",
    "                'conf_mat': confusion_matrix(y_test, y_pred), \n",
    "                'prediction': y_pred,\n",
    "                'predict_proba': grid.best_estimator_.predict_proba(X_test2),\n",
    "                'features': features,\n",
    "                'estimator': grid.best_estimator_,\n",
    "                'Train Time': train_time,\n",
    "                'classification_report': classification_report(y_test, y_pred)}\n",
    "        result = pd.concat([result, pd.DataFrame([temp])], ignore_index=True)\n",
    "    return result"
   ]
  },
  {
   "cell_type": "markdown",
   "id": "1628d5ea",
   "metadata": {},
   "source": [
    "**Ridge Regression**"
   ]
  },
  {
   "cell_type": "code",
   "execution_count": 35,
   "id": "d93ff449",
   "metadata": {},
   "outputs": [
    {
     "name": "stderr",
     "output_type": "stream",
     "text": [
      "/opt/anaconda3/envs/ML310/lib/python3.10/site-packages/sklearn/linear_model/_logistic.py:1211: UserWarning: 'n_jobs' > 1 does not have any effect when 'solver' is set to 'liblinear'. Got 'n_jobs' = 10.\n",
      "  warnings.warn(\n",
      "/opt/anaconda3/envs/ML310/lib/python3.10/site-packages/sklearn/linear_model/_logistic.py:1211: UserWarning: 'n_jobs' > 1 does not have any effect when 'solver' is set to 'liblinear'. Got 'n_jobs' = 10.\n",
      "  warnings.warn(\n",
      "/opt/anaconda3/envs/ML310/lib/python3.10/site-packages/sklearn/linear_model/_logistic.py:1211: UserWarning: 'n_jobs' > 1 does not have any effect when 'solver' is set to 'liblinear'. Got 'n_jobs' = 10.\n",
      "  warnings.warn(\n",
      "/opt/anaconda3/envs/ML310/lib/python3.10/site-packages/sklearn/linear_model/_logistic.py:1211: UserWarning: 'n_jobs' > 1 does not have any effect when 'solver' is set to 'liblinear'. Got 'n_jobs' = 10.\n",
      "  warnings.warn(\n",
      "/opt/anaconda3/envs/ML310/lib/python3.10/site-packages/sklearn/linear_model/_logistic.py:1211: UserWarning: 'n_jobs' > 1 does not have any effect when 'solver' is set to 'liblinear'. Got 'n_jobs' = 10.\n",
      "  warnings.warn(\n",
      "/opt/anaconda3/envs/ML310/lib/python3.10/site-packages/sklearn/linear_model/_logistic.py:1211: UserWarning: 'n_jobs' > 1 does not have any effect when 'solver' is set to 'liblinear'. Got 'n_jobs' = 10.\n",
      "  warnings.warn(\n",
      "/opt/anaconda3/envs/ML310/lib/python3.10/site-packages/sklearn/linear_model/_logistic.py:1211: UserWarning: 'n_jobs' > 1 does not have any effect when 'solver' is set to 'liblinear'. Got 'n_jobs' = 10.\n",
      "  warnings.warn(\n",
      "/opt/anaconda3/envs/ML310/lib/python3.10/site-packages/sklearn/linear_model/_logistic.py:1211: UserWarning: 'n_jobs' > 1 does not have any effect when 'solver' is set to 'liblinear'. Got 'n_jobs' = 10.\n",
      "  warnings.warn(\n",
      "/opt/anaconda3/envs/ML310/lib/python3.10/site-packages/sklearn/linear_model/_logistic.py:1211: UserWarning: 'n_jobs' > 1 does not have any effect when 'solver' is set to 'liblinear'. Got 'n_jobs' = 10.\n",
      "  warnings.warn(\n",
      "/opt/anaconda3/envs/ML310/lib/python3.10/site-packages/sklearn/linear_model/_logistic.py:1211: UserWarning: 'n_jobs' > 1 does not have any effect when 'solver' is set to 'liblinear'. Got 'n_jobs' = 10.\n",
      "  warnings.warn(\n",
      "/opt/anaconda3/envs/ML310/lib/python3.10/site-packages/sklearn/linear_model/_logistic.py:1211: UserWarning: 'n_jobs' > 1 does not have any effect when 'solver' is set to 'liblinear'. Got 'n_jobs' = 10.\n",
      "  warnings.warn(\n",
      "/opt/anaconda3/envs/ML310/lib/python3.10/site-packages/sklearn/linear_model/_logistic.py:1211: UserWarning: 'n_jobs' > 1 does not have any effect when 'solver' is set to 'liblinear'. Got 'n_jobs' = 10.\n",
      "  warnings.warn(\n",
      "/opt/anaconda3/envs/ML310/lib/python3.10/site-packages/sklearn/linear_model/_logistic.py:1211: UserWarning: 'n_jobs' > 1 does not have any effect when 'solver' is set to 'liblinear'. Got 'n_jobs' = 10.\n",
      "  warnings.warn(\n",
      "/opt/anaconda3/envs/ML310/lib/python3.10/site-packages/sklearn/linear_model/_logistic.py:1211: UserWarning: 'n_jobs' > 1 does not have any effect when 'solver' is set to 'liblinear'. Got 'n_jobs' = 10.\n",
      "  warnings.warn(\n",
      "/opt/anaconda3/envs/ML310/lib/python3.10/site-packages/sklearn/linear_model/_logistic.py:1211: UserWarning: 'n_jobs' > 1 does not have any effect when 'solver' is set to 'liblinear'. Got 'n_jobs' = 10.\n",
      "  warnings.warn(\n",
      "/opt/anaconda3/envs/ML310/lib/python3.10/site-packages/sklearn/linear_model/_logistic.py:1211: UserWarning: 'n_jobs' > 1 does not have any effect when 'solver' is set to 'liblinear'. Got 'n_jobs' = 10.\n",
      "  warnings.warn(\n",
      "/opt/anaconda3/envs/ML310/lib/python3.10/site-packages/sklearn/linear_model/_logistic.py:1211: UserWarning: 'n_jobs' > 1 does not have any effect when 'solver' is set to 'liblinear'. Got 'n_jobs' = 10.\n",
      "  warnings.warn(\n",
      "/opt/anaconda3/envs/ML310/lib/python3.10/site-packages/sklearn/linear_model/_logistic.py:1211: UserWarning: 'n_jobs' > 1 does not have any effect when 'solver' is set to 'liblinear'. Got 'n_jobs' = 10.\n",
      "  warnings.warn(\n",
      "/opt/anaconda3/envs/ML310/lib/python3.10/site-packages/sklearn/linear_model/_logistic.py:1211: UserWarning: 'n_jobs' > 1 does not have any effect when 'solver' is set to 'liblinear'. Got 'n_jobs' = 10.\n",
      "  warnings.warn(\n",
      "/opt/anaconda3/envs/ML310/lib/python3.10/site-packages/sklearn/linear_model/_logistic.py:1211: UserWarning: 'n_jobs' > 1 does not have any effect when 'solver' is set to 'liblinear'. Got 'n_jobs' = 10.\n",
      "  warnings.warn(\n",
      "/opt/anaconda3/envs/ML310/lib/python3.10/site-packages/sklearn/linear_model/_logistic.py:1211: UserWarning: 'n_jobs' > 1 does not have any effect when 'solver' is set to 'liblinear'. Got 'n_jobs' = 10.\n",
      "  warnings.warn(\n",
      "/opt/anaconda3/envs/ML310/lib/python3.10/site-packages/sklearn/linear_model/_logistic.py:1211: UserWarning: 'n_jobs' > 1 does not have any effect when 'solver' is set to 'liblinear'. Got 'n_jobs' = 10.\n",
      "  warnings.warn(\n",
      "/opt/anaconda3/envs/ML310/lib/python3.10/site-packages/sklearn/linear_model/_logistic.py:1211: UserWarning: 'n_jobs' > 1 does not have any effect when 'solver' is set to 'liblinear'. Got 'n_jobs' = 10.\n",
      "  warnings.warn(\n",
      "/opt/anaconda3/envs/ML310/lib/python3.10/site-packages/sklearn/linear_model/_logistic.py:1211: UserWarning: 'n_jobs' > 1 does not have any effect when 'solver' is set to 'liblinear'. Got 'n_jobs' = 10.\n",
      "  warnings.warn(\n",
      "/opt/anaconda3/envs/ML310/lib/python3.10/site-packages/sklearn/linear_model/_logistic.py:1211: UserWarning: 'n_jobs' > 1 does not have any effect when 'solver' is set to 'liblinear'. Got 'n_jobs' = 10.\n",
      "  warnings.warn(\n",
      "/opt/anaconda3/envs/ML310/lib/python3.10/site-packages/sklearn/linear_model/_logistic.py:1211: UserWarning: 'n_jobs' > 1 does not have any effect when 'solver' is set to 'liblinear'. Got 'n_jobs' = 10.\n",
      "  warnings.warn(\n",
      "/opt/anaconda3/envs/ML310/lib/python3.10/site-packages/sklearn/linear_model/_logistic.py:1211: UserWarning: 'n_jobs' > 1 does not have any effect when 'solver' is set to 'liblinear'. Got 'n_jobs' = 10.\n",
      "  warnings.warn(\n",
      "/opt/anaconda3/envs/ML310/lib/python3.10/site-packages/sklearn/linear_model/_logistic.py:1211: UserWarning: 'n_jobs' > 1 does not have any effect when 'solver' is set to 'liblinear'. Got 'n_jobs' = 10.\n",
      "  warnings.warn(\n",
      "/opt/anaconda3/envs/ML310/lib/python3.10/site-packages/sklearn/linear_model/_logistic.py:1211: UserWarning: 'n_jobs' > 1 does not have any effect when 'solver' is set to 'liblinear'. Got 'n_jobs' = 10.\n",
      "  warnings.warn(\n",
      "/opt/anaconda3/envs/ML310/lib/python3.10/site-packages/sklearn/linear_model/_logistic.py:1211: UserWarning: 'n_jobs' > 1 does not have any effect when 'solver' is set to 'liblinear'. Got 'n_jobs' = 10.\n",
      "  warnings.warn(\n",
      "/opt/anaconda3/envs/ML310/lib/python3.10/site-packages/sklearn/linear_model/_logistic.py:1211: UserWarning: 'n_jobs' > 1 does not have any effect when 'solver' is set to 'liblinear'. Got 'n_jobs' = 10.\n",
      "  warnings.warn(\n",
      "/opt/anaconda3/envs/ML310/lib/python3.10/site-packages/sklearn/linear_model/_logistic.py:1211: UserWarning: 'n_jobs' > 1 does not have any effect when 'solver' is set to 'liblinear'. Got 'n_jobs' = 10.\n",
      "  warnings.warn(\n",
      "/opt/anaconda3/envs/ML310/lib/python3.10/site-packages/sklearn/linear_model/_logistic.py:1211: UserWarning: 'n_jobs' > 1 does not have any effect when 'solver' is set to 'liblinear'. Got 'n_jobs' = 10.\n",
      "  warnings.warn(\n",
      "/opt/anaconda3/envs/ML310/lib/python3.10/site-packages/sklearn/linear_model/_logistic.py:1211: UserWarning: 'n_jobs' > 1 does not have any effect when 'solver' is set to 'liblinear'. Got 'n_jobs' = 10.\n",
      "  warnings.warn(\n",
      "/opt/anaconda3/envs/ML310/lib/python3.10/site-packages/sklearn/linear_model/_logistic.py:1211: UserWarning: 'n_jobs' > 1 does not have any effect when 'solver' is set to 'liblinear'. Got 'n_jobs' = 10.\n",
      "  warnings.warn(\n",
      "/opt/anaconda3/envs/ML310/lib/python3.10/site-packages/sklearn/linear_model/_logistic.py:1211: UserWarning: 'n_jobs' > 1 does not have any effect when 'solver' is set to 'liblinear'. Got 'n_jobs' = 10.\n",
      "  warnings.warn(\n",
      "/opt/anaconda3/envs/ML310/lib/python3.10/site-packages/sklearn/linear_model/_logistic.py:1211: UserWarning: 'n_jobs' > 1 does not have any effect when 'solver' is set to 'liblinear'. Got 'n_jobs' = 10.\n",
      "  warnings.warn(\n",
      "/opt/anaconda3/envs/ML310/lib/python3.10/site-packages/sklearn/linear_model/_logistic.py:1211: UserWarning: 'n_jobs' > 1 does not have any effect when 'solver' is set to 'liblinear'. Got 'n_jobs' = 10.\n",
      "  warnings.warn(\n",
      "/opt/anaconda3/envs/ML310/lib/python3.10/site-packages/sklearn/linear_model/_logistic.py:1211: UserWarning: 'n_jobs' > 1 does not have any effect when 'solver' is set to 'liblinear'. Got 'n_jobs' = 10.\n",
      "  warnings.warn(\n",
      "/opt/anaconda3/envs/ML310/lib/python3.10/site-packages/sklearn/linear_model/_logistic.py:1211: UserWarning: 'n_jobs' > 1 does not have any effect when 'solver' is set to 'liblinear'. Got 'n_jobs' = 10.\n",
      "  warnings.warn(\n"
     ]
    },
    {
     "name": "stderr",
     "output_type": "stream",
     "text": [
      "/opt/anaconda3/envs/ML310/lib/python3.10/site-packages/sklearn/linear_model/_logistic.py:1211: UserWarning: 'n_jobs' > 1 does not have any effect when 'solver' is set to 'liblinear'. Got 'n_jobs' = 10.\n",
      "  warnings.warn(\n",
      "/opt/anaconda3/envs/ML310/lib/python3.10/site-packages/sklearn/linear_model/_logistic.py:1211: UserWarning: 'n_jobs' > 1 does not have any effect when 'solver' is set to 'liblinear'. Got 'n_jobs' = 10.\n",
      "  warnings.warn(\n",
      "/opt/anaconda3/envs/ML310/lib/python3.10/site-packages/sklearn/linear_model/_logistic.py:1211: UserWarning: 'n_jobs' > 1 does not have any effect when 'solver' is set to 'liblinear'. Got 'n_jobs' = 10.\n",
      "  warnings.warn(\n",
      "/opt/anaconda3/envs/ML310/lib/python3.10/site-packages/sklearn/linear_model/_logistic.py:1211: UserWarning: 'n_jobs' > 1 does not have any effect when 'solver' is set to 'liblinear'. Got 'n_jobs' = 10.\n",
      "  warnings.warn(\n",
      "/opt/anaconda3/envs/ML310/lib/python3.10/site-packages/sklearn/linear_model/_logistic.py:1211: UserWarning: 'n_jobs' > 1 does not have any effect when 'solver' is set to 'liblinear'. Got 'n_jobs' = 10.\n",
      "  warnings.warn(\n",
      "/opt/anaconda3/envs/ML310/lib/python3.10/site-packages/sklearn/linear_model/_logistic.py:1211: UserWarning: 'n_jobs' > 1 does not have any effect when 'solver' is set to 'liblinear'. Got 'n_jobs' = 10.\n",
      "  warnings.warn(\n",
      "/opt/anaconda3/envs/ML310/lib/python3.10/site-packages/sklearn/linear_model/_logistic.py:1211: UserWarning: 'n_jobs' > 1 does not have any effect when 'solver' is set to 'liblinear'. Got 'n_jobs' = 10.\n",
      "  warnings.warn(\n",
      "/opt/anaconda3/envs/ML310/lib/python3.10/site-packages/sklearn/linear_model/_logistic.py:1211: UserWarning: 'n_jobs' > 1 does not have any effect when 'solver' is set to 'liblinear'. Got 'n_jobs' = 10.\n",
      "  warnings.warn(\n",
      "/opt/anaconda3/envs/ML310/lib/python3.10/site-packages/sklearn/linear_model/_logistic.py:1211: UserWarning: 'n_jobs' > 1 does not have any effect when 'solver' is set to 'liblinear'. Got 'n_jobs' = 10.\n",
      "  warnings.warn(\n",
      "/opt/anaconda3/envs/ML310/lib/python3.10/site-packages/sklearn/linear_model/_logistic.py:1211: UserWarning: 'n_jobs' > 1 does not have any effect when 'solver' is set to 'liblinear'. Got 'n_jobs' = 10.\n",
      "  warnings.warn(\n",
      "/opt/anaconda3/envs/ML310/lib/python3.10/site-packages/sklearn/linear_model/_logistic.py:1211: UserWarning: 'n_jobs' > 1 does not have any effect when 'solver' is set to 'liblinear'. Got 'n_jobs' = 10.\n",
      "  warnings.warn(\n",
      "/opt/anaconda3/envs/ML310/lib/python3.10/site-packages/sklearn/linear_model/_logistic.py:1211: UserWarning: 'n_jobs' > 1 does not have any effect when 'solver' is set to 'liblinear'. Got 'n_jobs' = 10.\n",
      "  warnings.warn(\n",
      "/opt/anaconda3/envs/ML310/lib/python3.10/site-packages/sklearn/linear_model/_logistic.py:1211: UserWarning: 'n_jobs' > 1 does not have any effect when 'solver' is set to 'liblinear'. Got 'n_jobs' = 10.\n",
      "  warnings.warn(\n",
      "/opt/anaconda3/envs/ML310/lib/python3.10/site-packages/sklearn/linear_model/_logistic.py:1211: UserWarning: 'n_jobs' > 1 does not have any effect when 'solver' is set to 'liblinear'. Got 'n_jobs' = 10.\n",
      "  warnings.warn(\n",
      "/opt/anaconda3/envs/ML310/lib/python3.10/site-packages/sklearn/linear_model/_logistic.py:1211: UserWarning: 'n_jobs' > 1 does not have any effect when 'solver' is set to 'liblinear'. Got 'n_jobs' = 10.\n",
      "  warnings.warn(\n",
      "/opt/anaconda3/envs/ML310/lib/python3.10/site-packages/sklearn/linear_model/_logistic.py:1211: UserWarning: 'n_jobs' > 1 does not have any effect when 'solver' is set to 'liblinear'. Got 'n_jobs' = 10.\n",
      "  warnings.warn(\n",
      "/opt/anaconda3/envs/ML310/lib/python3.10/site-packages/sklearn/linear_model/_logistic.py:1211: UserWarning: 'n_jobs' > 1 does not have any effect when 'solver' is set to 'liblinear'. Got 'n_jobs' = 10.\n",
      "  warnings.warn(\n",
      "/opt/anaconda3/envs/ML310/lib/python3.10/site-packages/sklearn/linear_model/_logistic.py:1211: UserWarning: 'n_jobs' > 1 does not have any effect when 'solver' is set to 'liblinear'. Got 'n_jobs' = 10.\n",
      "  warnings.warn(\n",
      "/opt/anaconda3/envs/ML310/lib/python3.10/site-packages/sklearn/linear_model/_logistic.py:1211: UserWarning: 'n_jobs' > 1 does not have any effect when 'solver' is set to 'liblinear'. Got 'n_jobs' = 10.\n",
      "  warnings.warn(\n",
      "/opt/anaconda3/envs/ML310/lib/python3.10/site-packages/sklearn/linear_model/_logistic.py:1211: UserWarning: 'n_jobs' > 1 does not have any effect when 'solver' is set to 'liblinear'. Got 'n_jobs' = 10.\n",
      "  warnings.warn(\n",
      "/opt/anaconda3/envs/ML310/lib/python3.10/site-packages/sklearn/linear_model/_logistic.py:1211: UserWarning: 'n_jobs' > 1 does not have any effect when 'solver' is set to 'liblinear'. Got 'n_jobs' = 10.\n",
      "  warnings.warn(\n",
      "/opt/anaconda3/envs/ML310/lib/python3.10/site-packages/sklearn/linear_model/_logistic.py:1211: UserWarning: 'n_jobs' > 1 does not have any effect when 'solver' is set to 'liblinear'. Got 'n_jobs' = 10.\n",
      "  warnings.warn(\n",
      "/opt/anaconda3/envs/ML310/lib/python3.10/site-packages/sklearn/linear_model/_logistic.py:1211: UserWarning: 'n_jobs' > 1 does not have any effect when 'solver' is set to 'liblinear'. Got 'n_jobs' = 10.\n",
      "  warnings.warn(\n",
      "/opt/anaconda3/envs/ML310/lib/python3.10/site-packages/sklearn/linear_model/_logistic.py:1211: UserWarning: 'n_jobs' > 1 does not have any effect when 'solver' is set to 'liblinear'. Got 'n_jobs' = 10.\n",
      "  warnings.warn(\n",
      "/opt/anaconda3/envs/ML310/lib/python3.10/site-packages/sklearn/linear_model/_logistic.py:1211: UserWarning: 'n_jobs' > 1 does not have any effect when 'solver' is set to 'liblinear'. Got 'n_jobs' = 10.\n",
      "  warnings.warn(\n",
      "/opt/anaconda3/envs/ML310/lib/python3.10/site-packages/sklearn/linear_model/_logistic.py:1211: UserWarning: 'n_jobs' > 1 does not have any effect when 'solver' is set to 'liblinear'. Got 'n_jobs' = 10.\n",
      "  warnings.warn(\n",
      "/opt/anaconda3/envs/ML310/lib/python3.10/site-packages/sklearn/linear_model/_logistic.py:1211: UserWarning: 'n_jobs' > 1 does not have any effect when 'solver' is set to 'liblinear'. Got 'n_jobs' = 10.\n",
      "  warnings.warn(\n",
      "/opt/anaconda3/envs/ML310/lib/python3.10/site-packages/sklearn/linear_model/_logistic.py:1211: UserWarning: 'n_jobs' > 1 does not have any effect when 'solver' is set to 'liblinear'. Got 'n_jobs' = 10.\n",
      "  warnings.warn(\n",
      "/opt/anaconda3/envs/ML310/lib/python3.10/site-packages/sklearn/linear_model/_logistic.py:1211: UserWarning: 'n_jobs' > 1 does not have any effect when 'solver' is set to 'liblinear'. Got 'n_jobs' = 10.\n",
      "  warnings.warn(\n",
      "/opt/anaconda3/envs/ML310/lib/python3.10/site-packages/sklearn/linear_model/_logistic.py:1211: UserWarning: 'n_jobs' > 1 does not have any effect when 'solver' is set to 'liblinear'. Got 'n_jobs' = 10.\n",
      "  warnings.warn(\n",
      "/opt/anaconda3/envs/ML310/lib/python3.10/site-packages/sklearn/linear_model/_logistic.py:1211: UserWarning: 'n_jobs' > 1 does not have any effect when 'solver' is set to 'liblinear'. Got 'n_jobs' = 10.\n",
      "  warnings.warn(\n",
      "/opt/anaconda3/envs/ML310/lib/python3.10/site-packages/sklearn/linear_model/_logistic.py:1211: UserWarning: 'n_jobs' > 1 does not have any effect when 'solver' is set to 'liblinear'. Got 'n_jobs' = 10.\n",
      "  warnings.warn(\n",
      "/opt/anaconda3/envs/ML310/lib/python3.10/site-packages/sklearn/linear_model/_logistic.py:1211: UserWarning: 'n_jobs' > 1 does not have any effect when 'solver' is set to 'liblinear'. Got 'n_jobs' = 10.\n",
      "  warnings.warn(\n",
      "/opt/anaconda3/envs/ML310/lib/python3.10/site-packages/sklearn/linear_model/_logistic.py:1211: UserWarning: 'n_jobs' > 1 does not have any effect when 'solver' is set to 'liblinear'. Got 'n_jobs' = 10.\n",
      "  warnings.warn(\n",
      "/opt/anaconda3/envs/ML310/lib/python3.10/site-packages/sklearn/linear_model/_logistic.py:1211: UserWarning: 'n_jobs' > 1 does not have any effect when 'solver' is set to 'liblinear'. Got 'n_jobs' = 10.\n",
      "  warnings.warn(\n",
      "/opt/anaconda3/envs/ML310/lib/python3.10/site-packages/sklearn/linear_model/_logistic.py:1211: UserWarning: 'n_jobs' > 1 does not have any effect when 'solver' is set to 'liblinear'. Got 'n_jobs' = 10.\n",
      "  warnings.warn(\n",
      "/opt/anaconda3/envs/ML310/lib/python3.10/site-packages/sklearn/linear_model/_logistic.py:1211: UserWarning: 'n_jobs' > 1 does not have any effect when 'solver' is set to 'liblinear'. Got 'n_jobs' = 10.\n",
      "  warnings.warn(\n",
      "/opt/anaconda3/envs/ML310/lib/python3.10/site-packages/sklearn/linear_model/_logistic.py:1211: UserWarning: 'n_jobs' > 1 does not have any effect when 'solver' is set to 'liblinear'. Got 'n_jobs' = 10.\n",
      "  warnings.warn(\n",
      "/opt/anaconda3/envs/ML310/lib/python3.10/site-packages/sklearn/linear_model/_logistic.py:1211: UserWarning: 'n_jobs' > 1 does not have any effect when 'solver' is set to 'liblinear'. Got 'n_jobs' = 10.\n",
      "  warnings.warn(\n",
      "/opt/anaconda3/envs/ML310/lib/python3.10/site-packages/sklearn/linear_model/_logistic.py:1211: UserWarning: 'n_jobs' > 1 does not have any effect when 'solver' is set to 'liblinear'. Got 'n_jobs' = 10.\n",
      "  warnings.warn(\n",
      "/opt/anaconda3/envs/ML310/lib/python3.10/site-packages/sklearn/linear_model/_logistic.py:1211: UserWarning: 'n_jobs' > 1 does not have any effect when 'solver' is set to 'liblinear'. Got 'n_jobs' = 10.\n",
      "  warnings.warn(\n",
      "/opt/anaconda3/envs/ML310/lib/python3.10/site-packages/sklearn/linear_model/_logistic.py:1211: UserWarning: 'n_jobs' > 1 does not have any effect when 'solver' is set to 'liblinear'. Got 'n_jobs' = 10.\n",
      "  warnings.warn(\n",
      "/opt/anaconda3/envs/ML310/lib/python3.10/site-packages/sklearn/linear_model/_logistic.py:1211: UserWarning: 'n_jobs' > 1 does not have any effect when 'solver' is set to 'liblinear'. Got 'n_jobs' = 10.\n",
      "  warnings.warn(\n",
      "/opt/anaconda3/envs/ML310/lib/python3.10/site-packages/sklearn/linear_model/_logistic.py:1211: UserWarning: 'n_jobs' > 1 does not have any effect when 'solver' is set to 'liblinear'. Got 'n_jobs' = 10.\n",
      "  warnings.warn(\n",
      "/opt/anaconda3/envs/ML310/lib/python3.10/site-packages/sklearn/linear_model/_logistic.py:1211: UserWarning: 'n_jobs' > 1 does not have any effect when 'solver' is set to 'liblinear'. Got 'n_jobs' = 10.\n",
      "  warnings.warn(\n",
      "/opt/anaconda3/envs/ML310/lib/python3.10/site-packages/sklearn/linear_model/_logistic.py:1211: UserWarning: 'n_jobs' > 1 does not have any effect when 'solver' is set to 'liblinear'. Got 'n_jobs' = 10.\n",
      "  warnings.warn(\n",
      "/opt/anaconda3/envs/ML310/lib/python3.10/site-packages/sklearn/linear_model/_logistic.py:1211: UserWarning: 'n_jobs' > 1 does not have any effect when 'solver' is set to 'liblinear'. Got 'n_jobs' = 10.\n",
      "  warnings.warn(\n",
      "/opt/anaconda3/envs/ML310/lib/python3.10/site-packages/sklearn/linear_model/_logistic.py:1211: UserWarning: 'n_jobs' > 1 does not have any effect when 'solver' is set to 'liblinear'. Got 'n_jobs' = 10.\n",
      "  warnings.warn(\n",
      "/opt/anaconda3/envs/ML310/lib/python3.10/site-packages/sklearn/linear_model/_logistic.py:1211: UserWarning: 'n_jobs' > 1 does not have any effect when 'solver' is set to 'liblinear'. Got 'n_jobs' = 10.\n",
      "  warnings.warn(\n",
      "/opt/anaconda3/envs/ML310/lib/python3.10/site-packages/sklearn/linear_model/_logistic.py:1211: UserWarning: 'n_jobs' > 1 does not have any effect when 'solver' is set to 'liblinear'. Got 'n_jobs' = 10.\n",
      "  warnings.warn(\n"
     ]
    },
    {
     "name": "stderr",
     "output_type": "stream",
     "text": [
      "/opt/anaconda3/envs/ML310/lib/python3.10/site-packages/sklearn/linear_model/_logistic.py:1211: UserWarning: 'n_jobs' > 1 does not have any effect when 'solver' is set to 'liblinear'. Got 'n_jobs' = 10.\n",
      "  warnings.warn(\n",
      "/opt/anaconda3/envs/ML310/lib/python3.10/site-packages/sklearn/linear_model/_logistic.py:1211: UserWarning: 'n_jobs' > 1 does not have any effect when 'solver' is set to 'liblinear'. Got 'n_jobs' = 10.\n",
      "  warnings.warn(\n",
      "/opt/anaconda3/envs/ML310/lib/python3.10/site-packages/sklearn/linear_model/_logistic.py:1211: UserWarning: 'n_jobs' > 1 does not have any effect when 'solver' is set to 'liblinear'. Got 'n_jobs' = 10.\n",
      "  warnings.warn(\n",
      "/opt/anaconda3/envs/ML310/lib/python3.10/site-packages/sklearn/linear_model/_logistic.py:1211: UserWarning: 'n_jobs' > 1 does not have any effect when 'solver' is set to 'liblinear'. Got 'n_jobs' = 10.\n",
      "  warnings.warn(\n",
      "/opt/anaconda3/envs/ML310/lib/python3.10/site-packages/sklearn/linear_model/_logistic.py:1211: UserWarning: 'n_jobs' > 1 does not have any effect when 'solver' is set to 'liblinear'. Got 'n_jobs' = 10.\n",
      "  warnings.warn(\n",
      "/opt/anaconda3/envs/ML310/lib/python3.10/site-packages/sklearn/linear_model/_logistic.py:1211: UserWarning: 'n_jobs' > 1 does not have any effect when 'solver' is set to 'liblinear'. Got 'n_jobs' = 10.\n",
      "  warnings.warn(\n",
      "/opt/anaconda3/envs/ML310/lib/python3.10/site-packages/sklearn/linear_model/_logistic.py:1211: UserWarning: 'n_jobs' > 1 does not have any effect when 'solver' is set to 'liblinear'. Got 'n_jobs' = 10.\n",
      "  warnings.warn(\n",
      "/opt/anaconda3/envs/ML310/lib/python3.10/site-packages/sklearn/linear_model/_logistic.py:1211: UserWarning: 'n_jobs' > 1 does not have any effect when 'solver' is set to 'liblinear'. Got 'n_jobs' = 10.\n",
      "  warnings.warn(\n",
      "/opt/anaconda3/envs/ML310/lib/python3.10/site-packages/sklearn/linear_model/_logistic.py:1211: UserWarning: 'n_jobs' > 1 does not have any effect when 'solver' is set to 'liblinear'. Got 'n_jobs' = 10.\n",
      "  warnings.warn(\n",
      "/opt/anaconda3/envs/ML310/lib/python3.10/site-packages/sklearn/linear_model/_logistic.py:1211: UserWarning: 'n_jobs' > 1 does not have any effect when 'solver' is set to 'liblinear'. Got 'n_jobs' = 10.\n",
      "  warnings.warn(\n",
      "/opt/anaconda3/envs/ML310/lib/python3.10/site-packages/sklearn/linear_model/_logistic.py:1211: UserWarning: 'n_jobs' > 1 does not have any effect when 'solver' is set to 'liblinear'. Got 'n_jobs' = 10.\n",
      "  warnings.warn(\n",
      "/opt/anaconda3/envs/ML310/lib/python3.10/site-packages/sklearn/linear_model/_logistic.py:1211: UserWarning: 'n_jobs' > 1 does not have any effect when 'solver' is set to 'liblinear'. Got 'n_jobs' = 10.\n",
      "  warnings.warn(\n",
      "/opt/anaconda3/envs/ML310/lib/python3.10/site-packages/sklearn/linear_model/_logistic.py:1211: UserWarning: 'n_jobs' > 1 does not have any effect when 'solver' is set to 'liblinear'. Got 'n_jobs' = 10.\n",
      "  warnings.warn(\n",
      "/opt/anaconda3/envs/ML310/lib/python3.10/site-packages/sklearn/linear_model/_logistic.py:1211: UserWarning: 'n_jobs' > 1 does not have any effect when 'solver' is set to 'liblinear'. Got 'n_jobs' = 10.\n",
      "  warnings.warn(\n",
      "/opt/anaconda3/envs/ML310/lib/python3.10/site-packages/sklearn/linear_model/_logistic.py:1211: UserWarning: 'n_jobs' > 1 does not have any effect when 'solver' is set to 'liblinear'. Got 'n_jobs' = 10.\n",
      "  warnings.warn(\n",
      "/opt/anaconda3/envs/ML310/lib/python3.10/site-packages/sklearn/linear_model/_logistic.py:1211: UserWarning: 'n_jobs' > 1 does not have any effect when 'solver' is set to 'liblinear'. Got 'n_jobs' = 10.\n",
      "  warnings.warn(\n",
      "/opt/anaconda3/envs/ML310/lib/python3.10/site-packages/sklearn/linear_model/_logistic.py:1211: UserWarning: 'n_jobs' > 1 does not have any effect when 'solver' is set to 'liblinear'. Got 'n_jobs' = 10.\n",
      "  warnings.warn(\n",
      "/opt/anaconda3/envs/ML310/lib/python3.10/site-packages/sklearn/linear_model/_logistic.py:1211: UserWarning: 'n_jobs' > 1 does not have any effect when 'solver' is set to 'liblinear'. Got 'n_jobs' = 10.\n",
      "  warnings.warn(\n",
      "/opt/anaconda3/envs/ML310/lib/python3.10/site-packages/sklearn/linear_model/_logistic.py:1211: UserWarning: 'n_jobs' > 1 does not have any effect when 'solver' is set to 'liblinear'. Got 'n_jobs' = 10.\n",
      "  warnings.warn(\n",
      "/opt/anaconda3/envs/ML310/lib/python3.10/site-packages/sklearn/linear_model/_logistic.py:1211: UserWarning: 'n_jobs' > 1 does not have any effect when 'solver' is set to 'liblinear'. Got 'n_jobs' = 10.\n",
      "  warnings.warn(\n",
      "/opt/anaconda3/envs/ML310/lib/python3.10/site-packages/sklearn/linear_model/_logistic.py:1211: UserWarning: 'n_jobs' > 1 does not have any effect when 'solver' is set to 'liblinear'. Got 'n_jobs' = 10.\n",
      "  warnings.warn(\n",
      "/opt/anaconda3/envs/ML310/lib/python3.10/site-packages/sklearn/linear_model/_logistic.py:1211: UserWarning: 'n_jobs' > 1 does not have any effect when 'solver' is set to 'liblinear'. Got 'n_jobs' = 10.\n",
      "  warnings.warn(\n",
      "/opt/anaconda3/envs/ML310/lib/python3.10/site-packages/sklearn/linear_model/_logistic.py:1211: UserWarning: 'n_jobs' > 1 does not have any effect when 'solver' is set to 'liblinear'. Got 'n_jobs' = 10.\n",
      "  warnings.warn(\n",
      "/opt/anaconda3/envs/ML310/lib/python3.10/site-packages/sklearn/linear_model/_logistic.py:1211: UserWarning: 'n_jobs' > 1 does not have any effect when 'solver' is set to 'liblinear'. Got 'n_jobs' = 10.\n",
      "  warnings.warn(\n",
      "/opt/anaconda3/envs/ML310/lib/python3.10/site-packages/sklearn/linear_model/_logistic.py:1211: UserWarning: 'n_jobs' > 1 does not have any effect when 'solver' is set to 'liblinear'. Got 'n_jobs' = 10.\n",
      "  warnings.warn(\n",
      "/opt/anaconda3/envs/ML310/lib/python3.10/site-packages/sklearn/linear_model/_logistic.py:1211: UserWarning: 'n_jobs' > 1 does not have any effect when 'solver' is set to 'liblinear'. Got 'n_jobs' = 10.\n",
      "  warnings.warn(\n",
      "/opt/anaconda3/envs/ML310/lib/python3.10/site-packages/sklearn/linear_model/_logistic.py:1211: UserWarning: 'n_jobs' > 1 does not have any effect when 'solver' is set to 'liblinear'. Got 'n_jobs' = 10.\n",
      "  warnings.warn(\n",
      "/opt/anaconda3/envs/ML310/lib/python3.10/site-packages/sklearn/linear_model/_logistic.py:1211: UserWarning: 'n_jobs' > 1 does not have any effect when 'solver' is set to 'liblinear'. Got 'n_jobs' = 10.\n",
      "  warnings.warn(\n",
      "/opt/anaconda3/envs/ML310/lib/python3.10/site-packages/sklearn/linear_model/_logistic.py:1211: UserWarning: 'n_jobs' > 1 does not have any effect when 'solver' is set to 'liblinear'. Got 'n_jobs' = 10.\n",
      "  warnings.warn(\n",
      "/opt/anaconda3/envs/ML310/lib/python3.10/site-packages/sklearn/linear_model/_logistic.py:1211: UserWarning: 'n_jobs' > 1 does not have any effect when 'solver' is set to 'liblinear'. Got 'n_jobs' = 10.\n",
      "  warnings.warn(\n",
      "/opt/anaconda3/envs/ML310/lib/python3.10/site-packages/sklearn/linear_model/_logistic.py:1211: UserWarning: 'n_jobs' > 1 does not have any effect when 'solver' is set to 'liblinear'. Got 'n_jobs' = 10.\n",
      "  warnings.warn(\n",
      "/opt/anaconda3/envs/ML310/lib/python3.10/site-packages/sklearn/linear_model/_logistic.py:1211: UserWarning: 'n_jobs' > 1 does not have any effect when 'solver' is set to 'liblinear'. Got 'n_jobs' = 10.\n",
      "  warnings.warn(\n",
      "/opt/anaconda3/envs/ML310/lib/python3.10/site-packages/sklearn/linear_model/_logistic.py:1211: UserWarning: 'n_jobs' > 1 does not have any effect when 'solver' is set to 'liblinear'. Got 'n_jobs' = 10.\n",
      "  warnings.warn(\n",
      "/opt/anaconda3/envs/ML310/lib/python3.10/site-packages/sklearn/linear_model/_logistic.py:1211: UserWarning: 'n_jobs' > 1 does not have any effect when 'solver' is set to 'liblinear'. Got 'n_jobs' = 10.\n",
      "  warnings.warn(\n",
      "/opt/anaconda3/envs/ML310/lib/python3.10/site-packages/sklearn/linear_model/_logistic.py:1211: UserWarning: 'n_jobs' > 1 does not have any effect when 'solver' is set to 'liblinear'. Got 'n_jobs' = 10.\n",
      "  warnings.warn(\n",
      "/opt/anaconda3/envs/ML310/lib/python3.10/site-packages/sklearn/linear_model/_logistic.py:1211: UserWarning: 'n_jobs' > 1 does not have any effect when 'solver' is set to 'liblinear'. Got 'n_jobs' = 10.\n",
      "  warnings.warn(\n",
      "/opt/anaconda3/envs/ML310/lib/python3.10/site-packages/sklearn/linear_model/_logistic.py:1211: UserWarning: 'n_jobs' > 1 does not have any effect when 'solver' is set to 'liblinear'. Got 'n_jobs' = 10.\n",
      "  warnings.warn(\n",
      "/opt/anaconda3/envs/ML310/lib/python3.10/site-packages/sklearn/linear_model/_logistic.py:1211: UserWarning: 'n_jobs' > 1 does not have any effect when 'solver' is set to 'liblinear'. Got 'n_jobs' = 10.\n",
      "  warnings.warn(\n",
      "/opt/anaconda3/envs/ML310/lib/python3.10/site-packages/sklearn/linear_model/_logistic.py:1211: UserWarning: 'n_jobs' > 1 does not have any effect when 'solver' is set to 'liblinear'. Got 'n_jobs' = 10.\n",
      "  warnings.warn(\n",
      "/opt/anaconda3/envs/ML310/lib/python3.10/site-packages/sklearn/linear_model/_logistic.py:1211: UserWarning: 'n_jobs' > 1 does not have any effect when 'solver' is set to 'liblinear'. Got 'n_jobs' = 10.\n",
      "  warnings.warn(\n",
      "/opt/anaconda3/envs/ML310/lib/python3.10/site-packages/sklearn/linear_model/_logistic.py:1211: UserWarning: 'n_jobs' > 1 does not have any effect when 'solver' is set to 'liblinear'. Got 'n_jobs' = 10.\n",
      "  warnings.warn(\n",
      "/opt/anaconda3/envs/ML310/lib/python3.10/site-packages/sklearn/linear_model/_logistic.py:1211: UserWarning: 'n_jobs' > 1 does not have any effect when 'solver' is set to 'liblinear'. Got 'n_jobs' = 10.\n",
      "  warnings.warn(\n",
      "/opt/anaconda3/envs/ML310/lib/python3.10/site-packages/sklearn/linear_model/_logistic.py:1211: UserWarning: 'n_jobs' > 1 does not have any effect when 'solver' is set to 'liblinear'. Got 'n_jobs' = 10.\n",
      "  warnings.warn(\n",
      "/opt/anaconda3/envs/ML310/lib/python3.10/site-packages/sklearn/linear_model/_logistic.py:1211: UserWarning: 'n_jobs' > 1 does not have any effect when 'solver' is set to 'liblinear'. Got 'n_jobs' = 10.\n",
      "  warnings.warn(\n",
      "/opt/anaconda3/envs/ML310/lib/python3.10/site-packages/sklearn/linear_model/_logistic.py:1211: UserWarning: 'n_jobs' > 1 does not have any effect when 'solver' is set to 'liblinear'. Got 'n_jobs' = 10.\n",
      "  warnings.warn(\n",
      "/opt/anaconda3/envs/ML310/lib/python3.10/site-packages/sklearn/linear_model/_logistic.py:1211: UserWarning: 'n_jobs' > 1 does not have any effect when 'solver' is set to 'liblinear'. Got 'n_jobs' = 10.\n",
      "  warnings.warn(\n",
      "/opt/anaconda3/envs/ML310/lib/python3.10/site-packages/sklearn/linear_model/_logistic.py:1211: UserWarning: 'n_jobs' > 1 does not have any effect when 'solver' is set to 'liblinear'. Got 'n_jobs' = 10.\n",
      "  warnings.warn(\n",
      "/opt/anaconda3/envs/ML310/lib/python3.10/site-packages/sklearn/linear_model/_logistic.py:1211: UserWarning: 'n_jobs' > 1 does not have any effect when 'solver' is set to 'liblinear'. Got 'n_jobs' = 10.\n",
      "  warnings.warn(\n",
      "/opt/anaconda3/envs/ML310/lib/python3.10/site-packages/sklearn/linear_model/_logistic.py:1211: UserWarning: 'n_jobs' > 1 does not have any effect when 'solver' is set to 'liblinear'. Got 'n_jobs' = 10.\n",
      "  warnings.warn(\n",
      "/opt/anaconda3/envs/ML310/lib/python3.10/site-packages/sklearn/linear_model/_logistic.py:1211: UserWarning: 'n_jobs' > 1 does not have any effect when 'solver' is set to 'liblinear'. Got 'n_jobs' = 10.\n",
      "  warnings.warn(\n"
     ]
    },
    {
     "name": "stderr",
     "output_type": "stream",
     "text": [
      "/opt/anaconda3/envs/ML310/lib/python3.10/site-packages/sklearn/linear_model/_logistic.py:1211: UserWarning: 'n_jobs' > 1 does not have any effect when 'solver' is set to 'liblinear'. Got 'n_jobs' = 10.\n",
      "  warnings.warn(\n",
      "/opt/anaconda3/envs/ML310/lib/python3.10/site-packages/sklearn/linear_model/_logistic.py:1211: UserWarning: 'n_jobs' > 1 does not have any effect when 'solver' is set to 'liblinear'. Got 'n_jobs' = 10.\n",
      "  warnings.warn(\n",
      "/opt/anaconda3/envs/ML310/lib/python3.10/site-packages/sklearn/linear_model/_logistic.py:1211: UserWarning: 'n_jobs' > 1 does not have any effect when 'solver' is set to 'liblinear'. Got 'n_jobs' = 10.\n",
      "  warnings.warn(\n",
      "/opt/anaconda3/envs/ML310/lib/python3.10/site-packages/sklearn/linear_model/_logistic.py:1211: UserWarning: 'n_jobs' > 1 does not have any effect when 'solver' is set to 'liblinear'. Got 'n_jobs' = 10.\n",
      "  warnings.warn(\n",
      "/opt/anaconda3/envs/ML310/lib/python3.10/site-packages/sklearn/linear_model/_logistic.py:1211: UserWarning: 'n_jobs' > 1 does not have any effect when 'solver' is set to 'liblinear'. Got 'n_jobs' = 10.\n",
      "  warnings.warn(\n",
      "/opt/anaconda3/envs/ML310/lib/python3.10/site-packages/sklearn/linear_model/_logistic.py:1211: UserWarning: 'n_jobs' > 1 does not have any effect when 'solver' is set to 'liblinear'. Got 'n_jobs' = 10.\n",
      "  warnings.warn(\n",
      "/opt/anaconda3/envs/ML310/lib/python3.10/site-packages/sklearn/linear_model/_logistic.py:1211: UserWarning: 'n_jobs' > 1 does not have any effect when 'solver' is set to 'liblinear'. Got 'n_jobs' = 10.\n",
      "  warnings.warn(\n",
      "/opt/anaconda3/envs/ML310/lib/python3.10/site-packages/sklearn/linear_model/_logistic.py:1211: UserWarning: 'n_jobs' > 1 does not have any effect when 'solver' is set to 'liblinear'. Got 'n_jobs' = 10.\n",
      "  warnings.warn(\n",
      "/opt/anaconda3/envs/ML310/lib/python3.10/site-packages/sklearn/linear_model/_logistic.py:1211: UserWarning: 'n_jobs' > 1 does not have any effect when 'solver' is set to 'liblinear'. Got 'n_jobs' = 10.\n",
      "  warnings.warn(\n",
      "/opt/anaconda3/envs/ML310/lib/python3.10/site-packages/sklearn/linear_model/_logistic.py:1211: UserWarning: 'n_jobs' > 1 does not have any effect when 'solver' is set to 'liblinear'. Got 'n_jobs' = 10.\n",
      "  warnings.warn(\n",
      "/opt/anaconda3/envs/ML310/lib/python3.10/site-packages/sklearn/linear_model/_logistic.py:1211: UserWarning: 'n_jobs' > 1 does not have any effect when 'solver' is set to 'liblinear'. Got 'n_jobs' = 10.\n",
      "  warnings.warn(\n",
      "/opt/anaconda3/envs/ML310/lib/python3.10/site-packages/sklearn/linear_model/_logistic.py:1211: UserWarning: 'n_jobs' > 1 does not have any effect when 'solver' is set to 'liblinear'. Got 'n_jobs' = 10.\n",
      "  warnings.warn(\n",
      "/opt/anaconda3/envs/ML310/lib/python3.10/site-packages/sklearn/linear_model/_logistic.py:1211: UserWarning: 'n_jobs' > 1 does not have any effect when 'solver' is set to 'liblinear'. Got 'n_jobs' = 10.\n",
      "  warnings.warn(\n",
      "/opt/anaconda3/envs/ML310/lib/python3.10/site-packages/sklearn/linear_model/_logistic.py:1211: UserWarning: 'n_jobs' > 1 does not have any effect when 'solver' is set to 'liblinear'. Got 'n_jobs' = 10.\n",
      "  warnings.warn(\n",
      "/opt/anaconda3/envs/ML310/lib/python3.10/site-packages/sklearn/linear_model/_logistic.py:1211: UserWarning: 'n_jobs' > 1 does not have any effect when 'solver' is set to 'liblinear'. Got 'n_jobs' = 10.\n",
      "  warnings.warn(\n",
      "/opt/anaconda3/envs/ML310/lib/python3.10/site-packages/sklearn/linear_model/_logistic.py:1211: UserWarning: 'n_jobs' > 1 does not have any effect when 'solver' is set to 'liblinear'. Got 'n_jobs' = 10.\n",
      "  warnings.warn(\n",
      "/opt/anaconda3/envs/ML310/lib/python3.10/site-packages/sklearn/linear_model/_logistic.py:1211: UserWarning: 'n_jobs' > 1 does not have any effect when 'solver' is set to 'liblinear'. Got 'n_jobs' = 10.\n",
      "  warnings.warn(\n",
      "/opt/anaconda3/envs/ML310/lib/python3.10/site-packages/sklearn/linear_model/_logistic.py:1211: UserWarning: 'n_jobs' > 1 does not have any effect when 'solver' is set to 'liblinear'. Got 'n_jobs' = 10.\n",
      "  warnings.warn(\n",
      "/opt/anaconda3/envs/ML310/lib/python3.10/site-packages/sklearn/linear_model/_logistic.py:1211: UserWarning: 'n_jobs' > 1 does not have any effect when 'solver' is set to 'liblinear'. Got 'n_jobs' = 10.\n",
      "  warnings.warn(\n",
      "/opt/anaconda3/envs/ML310/lib/python3.10/site-packages/sklearn/linear_model/_logistic.py:1211: UserWarning: 'n_jobs' > 1 does not have any effect when 'solver' is set to 'liblinear'. Got 'n_jobs' = 10.\n",
      "  warnings.warn(\n",
      "/opt/anaconda3/envs/ML310/lib/python3.10/site-packages/sklearn/linear_model/_logistic.py:1211: UserWarning: 'n_jobs' > 1 does not have any effect when 'solver' is set to 'liblinear'. Got 'n_jobs' = 10.\n",
      "  warnings.warn(\n",
      "/opt/anaconda3/envs/ML310/lib/python3.10/site-packages/sklearn/linear_model/_logistic.py:1211: UserWarning: 'n_jobs' > 1 does not have any effect when 'solver' is set to 'liblinear'. Got 'n_jobs' = 10.\n",
      "  warnings.warn(\n",
      "/opt/anaconda3/envs/ML310/lib/python3.10/site-packages/sklearn/linear_model/_logistic.py:1211: UserWarning: 'n_jobs' > 1 does not have any effect when 'solver' is set to 'liblinear'. Got 'n_jobs' = 10.\n",
      "  warnings.warn(\n",
      "/opt/anaconda3/envs/ML310/lib/python3.10/site-packages/sklearn/linear_model/_logistic.py:1211: UserWarning: 'n_jobs' > 1 does not have any effect when 'solver' is set to 'liblinear'. Got 'n_jobs' = 10.\n",
      "  warnings.warn(\n",
      "/opt/anaconda3/envs/ML310/lib/python3.10/site-packages/sklearn/linear_model/_logistic.py:1211: UserWarning: 'n_jobs' > 1 does not have any effect when 'solver' is set to 'liblinear'. Got 'n_jobs' = 10.\n",
      "  warnings.warn(\n",
      "/opt/anaconda3/envs/ML310/lib/python3.10/site-packages/sklearn/linear_model/_logistic.py:1211: UserWarning: 'n_jobs' > 1 does not have any effect when 'solver' is set to 'liblinear'. Got 'n_jobs' = 10.\n",
      "  warnings.warn(\n",
      "/opt/anaconda3/envs/ML310/lib/python3.10/site-packages/sklearn/linear_model/_logistic.py:1211: UserWarning: 'n_jobs' > 1 does not have any effect when 'solver' is set to 'liblinear'. Got 'n_jobs' = 10.\n",
      "  warnings.warn(\n",
      "/opt/anaconda3/envs/ML310/lib/python3.10/site-packages/sklearn/linear_model/_logistic.py:1211: UserWarning: 'n_jobs' > 1 does not have any effect when 'solver' is set to 'liblinear'. Got 'n_jobs' = 10.\n",
      "  warnings.warn(\n",
      "/opt/anaconda3/envs/ML310/lib/python3.10/site-packages/sklearn/linear_model/_logistic.py:1211: UserWarning: 'n_jobs' > 1 does not have any effect when 'solver' is set to 'liblinear'. Got 'n_jobs' = 10.\n",
      "  warnings.warn(\n",
      "/opt/anaconda3/envs/ML310/lib/python3.10/site-packages/sklearn/linear_model/_logistic.py:1211: UserWarning: 'n_jobs' > 1 does not have any effect when 'solver' is set to 'liblinear'. Got 'n_jobs' = 10.\n",
      "  warnings.warn(\n",
      "/opt/anaconda3/envs/ML310/lib/python3.10/site-packages/sklearn/linear_model/_logistic.py:1211: UserWarning: 'n_jobs' > 1 does not have any effect when 'solver' is set to 'liblinear'. Got 'n_jobs' = 10.\n",
      "  warnings.warn(\n",
      "/opt/anaconda3/envs/ML310/lib/python3.10/site-packages/sklearn/linear_model/_logistic.py:1211: UserWarning: 'n_jobs' > 1 does not have any effect when 'solver' is set to 'liblinear'. Got 'n_jobs' = 10.\n",
      "  warnings.warn(\n",
      "/opt/anaconda3/envs/ML310/lib/python3.10/site-packages/sklearn/linear_model/_logistic.py:1211: UserWarning: 'n_jobs' > 1 does not have any effect when 'solver' is set to 'liblinear'. Got 'n_jobs' = 10.\n",
      "  warnings.warn(\n",
      "/opt/anaconda3/envs/ML310/lib/python3.10/site-packages/sklearn/linear_model/_logistic.py:1211: UserWarning: 'n_jobs' > 1 does not have any effect when 'solver' is set to 'liblinear'. Got 'n_jobs' = 10.\n",
      "  warnings.warn(\n",
      "/opt/anaconda3/envs/ML310/lib/python3.10/site-packages/sklearn/linear_model/_logistic.py:1211: UserWarning: 'n_jobs' > 1 does not have any effect when 'solver' is set to 'liblinear'. Got 'n_jobs' = 10.\n",
      "  warnings.warn(\n",
      "/opt/anaconda3/envs/ML310/lib/python3.10/site-packages/sklearn/linear_model/_logistic.py:1211: UserWarning: 'n_jobs' > 1 does not have any effect when 'solver' is set to 'liblinear'. Got 'n_jobs' = 10.\n",
      "  warnings.warn(\n",
      "/opt/anaconda3/envs/ML310/lib/python3.10/site-packages/sklearn/linear_model/_logistic.py:1211: UserWarning: 'n_jobs' > 1 does not have any effect when 'solver' is set to 'liblinear'. Got 'n_jobs' = 10.\n",
      "  warnings.warn(\n",
      "/opt/anaconda3/envs/ML310/lib/python3.10/site-packages/sklearn/linear_model/_logistic.py:1211: UserWarning: 'n_jobs' > 1 does not have any effect when 'solver' is set to 'liblinear'. Got 'n_jobs' = 10.\n",
      "  warnings.warn(\n",
      "/opt/anaconda3/envs/ML310/lib/python3.10/site-packages/sklearn/linear_model/_logistic.py:1211: UserWarning: 'n_jobs' > 1 does not have any effect when 'solver' is set to 'liblinear'. Got 'n_jobs' = 10.\n",
      "  warnings.warn(\n",
      "/opt/anaconda3/envs/ML310/lib/python3.10/site-packages/sklearn/linear_model/_logistic.py:1211: UserWarning: 'n_jobs' > 1 does not have any effect when 'solver' is set to 'liblinear'. Got 'n_jobs' = 10.\n",
      "  warnings.warn(\n"
     ]
    },
    {
     "name": "stderr",
     "output_type": "stream",
     "text": [
      "/opt/anaconda3/envs/ML310/lib/python3.10/site-packages/sklearn/linear_model/_logistic.py:1211: UserWarning: 'n_jobs' > 1 does not have any effect when 'solver' is set to 'liblinear'. Got 'n_jobs' = 10.\n",
      "  warnings.warn(\n",
      "/opt/anaconda3/envs/ML310/lib/python3.10/site-packages/sklearn/linear_model/_logistic.py:1211: UserWarning: 'n_jobs' > 1 does not have any effect when 'solver' is set to 'liblinear'. Got 'n_jobs' = 10.\n",
      "  warnings.warn(\n",
      "/opt/anaconda3/envs/ML310/lib/python3.10/site-packages/sklearn/linear_model/_logistic.py:1211: UserWarning: 'n_jobs' > 1 does not have any effect when 'solver' is set to 'liblinear'. Got 'n_jobs' = 10.\n",
      "  warnings.warn(\n",
      "/opt/anaconda3/envs/ML310/lib/python3.10/site-packages/sklearn/linear_model/_logistic.py:1211: UserWarning: 'n_jobs' > 1 does not have any effect when 'solver' is set to 'liblinear'. Got 'n_jobs' = 10.\n",
      "  warnings.warn(\n",
      "/opt/anaconda3/envs/ML310/lib/python3.10/site-packages/sklearn/linear_model/_logistic.py:1211: UserWarning: 'n_jobs' > 1 does not have any effect when 'solver' is set to 'liblinear'. Got 'n_jobs' = 10.\n",
      "  warnings.warn(\n",
      "/opt/anaconda3/envs/ML310/lib/python3.10/site-packages/sklearn/linear_model/_logistic.py:1211: UserWarning: 'n_jobs' > 1 does not have any effect when 'solver' is set to 'liblinear'. Got 'n_jobs' = 10.\n",
      "  warnings.warn(\n",
      "/opt/anaconda3/envs/ML310/lib/python3.10/site-packages/sklearn/linear_model/_logistic.py:1211: UserWarning: 'n_jobs' > 1 does not have any effect when 'solver' is set to 'liblinear'. Got 'n_jobs' = 10.\n",
      "  warnings.warn(\n",
      "/opt/anaconda3/envs/ML310/lib/python3.10/site-packages/sklearn/linear_model/_logistic.py:1211: UserWarning: 'n_jobs' > 1 does not have any effect when 'solver' is set to 'liblinear'. Got 'n_jobs' = 10.\n",
      "  warnings.warn(\n",
      "/opt/anaconda3/envs/ML310/lib/python3.10/site-packages/sklearn/linear_model/_logistic.py:1211: UserWarning: 'n_jobs' > 1 does not have any effect when 'solver' is set to 'liblinear'. Got 'n_jobs' = 10.\n",
      "  warnings.warn(\n",
      "/opt/anaconda3/envs/ML310/lib/python3.10/site-packages/sklearn/linear_model/_logistic.py:1211: UserWarning: 'n_jobs' > 1 does not have any effect when 'solver' is set to 'liblinear'. Got 'n_jobs' = 10.\n",
      "  warnings.warn(\n",
      "/opt/anaconda3/envs/ML310/lib/python3.10/site-packages/sklearn/linear_model/_logistic.py:1211: UserWarning: 'n_jobs' > 1 does not have any effect when 'solver' is set to 'liblinear'. Got 'n_jobs' = 10.\n",
      "  warnings.warn(\n",
      "/opt/anaconda3/envs/ML310/lib/python3.10/site-packages/sklearn/linear_model/_logistic.py:1211: UserWarning: 'n_jobs' > 1 does not have any effect when 'solver' is set to 'liblinear'. Got 'n_jobs' = 10.\n",
      "  warnings.warn(\n",
      "/opt/anaconda3/envs/ML310/lib/python3.10/site-packages/sklearn/linear_model/_logistic.py:1211: UserWarning: 'n_jobs' > 1 does not have any effect when 'solver' is set to 'liblinear'. Got 'n_jobs' = 10.\n",
      "  warnings.warn(\n",
      "/opt/anaconda3/envs/ML310/lib/python3.10/site-packages/sklearn/linear_model/_logistic.py:1211: UserWarning: 'n_jobs' > 1 does not have any effect when 'solver' is set to 'liblinear'. Got 'n_jobs' = 10.\n",
      "  warnings.warn(\n",
      "/opt/anaconda3/envs/ML310/lib/python3.10/site-packages/sklearn/linear_model/_logistic.py:1211: UserWarning: 'n_jobs' > 1 does not have any effect when 'solver' is set to 'liblinear'. Got 'n_jobs' = 10.\n",
      "  warnings.warn(\n",
      "/opt/anaconda3/envs/ML310/lib/python3.10/site-packages/sklearn/linear_model/_logistic.py:1211: UserWarning: 'n_jobs' > 1 does not have any effect when 'solver' is set to 'liblinear'. Got 'n_jobs' = 10.\n",
      "  warnings.warn(\n",
      "/opt/anaconda3/envs/ML310/lib/python3.10/site-packages/sklearn/linear_model/_logistic.py:1211: UserWarning: 'n_jobs' > 1 does not have any effect when 'solver' is set to 'liblinear'. Got 'n_jobs' = 10.\n",
      "  warnings.warn(\n",
      "/opt/anaconda3/envs/ML310/lib/python3.10/site-packages/sklearn/linear_model/_logistic.py:1211: UserWarning: 'n_jobs' > 1 does not have any effect when 'solver' is set to 'liblinear'. Got 'n_jobs' = 10.\n",
      "  warnings.warn(\n",
      "/opt/anaconda3/envs/ML310/lib/python3.10/site-packages/sklearn/linear_model/_logistic.py:1211: UserWarning: 'n_jobs' > 1 does not have any effect when 'solver' is set to 'liblinear'. Got 'n_jobs' = 10.\n",
      "  warnings.warn(\n",
      "/opt/anaconda3/envs/ML310/lib/python3.10/site-packages/sklearn/linear_model/_logistic.py:1211: UserWarning: 'n_jobs' > 1 does not have any effect when 'solver' is set to 'liblinear'. Got 'n_jobs' = 10.\n",
      "  warnings.warn(\n",
      "/opt/anaconda3/envs/ML310/lib/python3.10/site-packages/sklearn/linear_model/_logistic.py:1211: UserWarning: 'n_jobs' > 1 does not have any effect when 'solver' is set to 'liblinear'. Got 'n_jobs' = 10.\n",
      "  warnings.warn(\n",
      "/opt/anaconda3/envs/ML310/lib/python3.10/site-packages/sklearn/linear_model/_logistic.py:1211: UserWarning: 'n_jobs' > 1 does not have any effect when 'solver' is set to 'liblinear'. Got 'n_jobs' = 10.\n",
      "  warnings.warn(\n",
      "/opt/anaconda3/envs/ML310/lib/python3.10/site-packages/sklearn/linear_model/_logistic.py:1211: UserWarning: 'n_jobs' > 1 does not have any effect when 'solver' is set to 'liblinear'. Got 'n_jobs' = 10.\n",
      "  warnings.warn(\n",
      "/opt/anaconda3/envs/ML310/lib/python3.10/site-packages/sklearn/linear_model/_logistic.py:1211: UserWarning: 'n_jobs' > 1 does not have any effect when 'solver' is set to 'liblinear'. Got 'n_jobs' = 10.\n",
      "  warnings.warn(\n",
      "/opt/anaconda3/envs/ML310/lib/python3.10/site-packages/sklearn/linear_model/_logistic.py:1211: UserWarning: 'n_jobs' > 1 does not have any effect when 'solver' is set to 'liblinear'. Got 'n_jobs' = 10.\n",
      "  warnings.warn(\n",
      "/opt/anaconda3/envs/ML310/lib/python3.10/site-packages/sklearn/linear_model/_logistic.py:1211: UserWarning: 'n_jobs' > 1 does not have any effect when 'solver' is set to 'liblinear'. Got 'n_jobs' = 10.\n",
      "  warnings.warn(\n",
      "/opt/anaconda3/envs/ML310/lib/python3.10/site-packages/sklearn/linear_model/_logistic.py:1211: UserWarning: 'n_jobs' > 1 does not have any effect when 'solver' is set to 'liblinear'. Got 'n_jobs' = 10.\n",
      "  warnings.warn(\n",
      "/opt/anaconda3/envs/ML310/lib/python3.10/site-packages/sklearn/linear_model/_logistic.py:1211: UserWarning: 'n_jobs' > 1 does not have any effect when 'solver' is set to 'liblinear'. Got 'n_jobs' = 10.\n",
      "  warnings.warn(\n",
      "/opt/anaconda3/envs/ML310/lib/python3.10/site-packages/sklearn/linear_model/_logistic.py:1211: UserWarning: 'n_jobs' > 1 does not have any effect when 'solver' is set to 'liblinear'. Got 'n_jobs' = 10.\n",
      "  warnings.warn(\n",
      "/opt/anaconda3/envs/ML310/lib/python3.10/site-packages/sklearn/linear_model/_logistic.py:1211: UserWarning: 'n_jobs' > 1 does not have any effect when 'solver' is set to 'liblinear'. Got 'n_jobs' = 10.\n",
      "  warnings.warn(\n",
      "/opt/anaconda3/envs/ML310/lib/python3.10/site-packages/sklearn/linear_model/_logistic.py:1211: UserWarning: 'n_jobs' > 1 does not have any effect when 'solver' is set to 'liblinear'. Got 'n_jobs' = 10.\n",
      "  warnings.warn(\n",
      "/opt/anaconda3/envs/ML310/lib/python3.10/site-packages/sklearn/linear_model/_logistic.py:1211: UserWarning: 'n_jobs' > 1 does not have any effect when 'solver' is set to 'liblinear'. Got 'n_jobs' = 10.\n",
      "  warnings.warn(\n",
      "/opt/anaconda3/envs/ML310/lib/python3.10/site-packages/sklearn/linear_model/_logistic.py:1211: UserWarning: 'n_jobs' > 1 does not have any effect when 'solver' is set to 'liblinear'. Got 'n_jobs' = 10.\n",
      "  warnings.warn(\n",
      "/opt/anaconda3/envs/ML310/lib/python3.10/site-packages/sklearn/linear_model/_logistic.py:1211: UserWarning: 'n_jobs' > 1 does not have any effect when 'solver' is set to 'liblinear'. Got 'n_jobs' = 10.\n",
      "  warnings.warn(\n",
      "/opt/anaconda3/envs/ML310/lib/python3.10/site-packages/sklearn/linear_model/_logistic.py:1211: UserWarning: 'n_jobs' > 1 does not have any effect when 'solver' is set to 'liblinear'. Got 'n_jobs' = 10.\n",
      "  warnings.warn(\n",
      "/opt/anaconda3/envs/ML310/lib/python3.10/site-packages/sklearn/linear_model/_logistic.py:1211: UserWarning: 'n_jobs' > 1 does not have any effect when 'solver' is set to 'liblinear'. Got 'n_jobs' = 10.\n",
      "  warnings.warn(\n",
      "/opt/anaconda3/envs/ML310/lib/python3.10/site-packages/sklearn/linear_model/_logistic.py:1211: UserWarning: 'n_jobs' > 1 does not have any effect when 'solver' is set to 'liblinear'. Got 'n_jobs' = 10.\n",
      "  warnings.warn(\n",
      "/opt/anaconda3/envs/ML310/lib/python3.10/site-packages/sklearn/linear_model/_logistic.py:1211: UserWarning: 'n_jobs' > 1 does not have any effect when 'solver' is set to 'liblinear'. Got 'n_jobs' = 10.\n",
      "  warnings.warn(\n",
      "/opt/anaconda3/envs/ML310/lib/python3.10/site-packages/sklearn/linear_model/_logistic.py:1211: UserWarning: 'n_jobs' > 1 does not have any effect when 'solver' is set to 'liblinear'. Got 'n_jobs' = 10.\n",
      "  warnings.warn(\n",
      "/opt/anaconda3/envs/ML310/lib/python3.10/site-packages/sklearn/linear_model/_logistic.py:1211: UserWarning: 'n_jobs' > 1 does not have any effect when 'solver' is set to 'liblinear'. Got 'n_jobs' = 10.\n",
      "  warnings.warn(\n",
      "/opt/anaconda3/envs/ML310/lib/python3.10/site-packages/sklearn/linear_model/_logistic.py:1211: UserWarning: 'n_jobs' > 1 does not have any effect when 'solver' is set to 'liblinear'. Got 'n_jobs' = 10.\n",
      "  warnings.warn(\n"
     ]
    },
    {
     "name": "stderr",
     "output_type": "stream",
     "text": [
      "/opt/anaconda3/envs/ML310/lib/python3.10/site-packages/sklearn/linear_model/_logistic.py:1211: UserWarning: 'n_jobs' > 1 does not have any effect when 'solver' is set to 'liblinear'. Got 'n_jobs' = 10.\n",
      "  warnings.warn(\n",
      "/opt/anaconda3/envs/ML310/lib/python3.10/site-packages/sklearn/linear_model/_logistic.py:1211: UserWarning: 'n_jobs' > 1 does not have any effect when 'solver' is set to 'liblinear'. Got 'n_jobs' = 10.\n",
      "  warnings.warn(\n",
      "/opt/anaconda3/envs/ML310/lib/python3.10/site-packages/sklearn/linear_model/_logistic.py:1211: UserWarning: 'n_jobs' > 1 does not have any effect when 'solver' is set to 'liblinear'. Got 'n_jobs' = 10.\n",
      "  warnings.warn(\n",
      "/opt/anaconda3/envs/ML310/lib/python3.10/site-packages/sklearn/linear_model/_logistic.py:1211: UserWarning: 'n_jobs' > 1 does not have any effect when 'solver' is set to 'liblinear'. Got 'n_jobs' = 10.\n",
      "  warnings.warn(\n",
      "/opt/anaconda3/envs/ML310/lib/python3.10/site-packages/sklearn/linear_model/_logistic.py:1211: UserWarning: 'n_jobs' > 1 does not have any effect when 'solver' is set to 'liblinear'. Got 'n_jobs' = 10.\n",
      "  warnings.warn(\n",
      "/opt/anaconda3/envs/ML310/lib/python3.10/site-packages/sklearn/linear_model/_logistic.py:1211: UserWarning: 'n_jobs' > 1 does not have any effect when 'solver' is set to 'liblinear'. Got 'n_jobs' = 10.\n",
      "  warnings.warn(\n",
      "/opt/anaconda3/envs/ML310/lib/python3.10/site-packages/sklearn/linear_model/_logistic.py:1211: UserWarning: 'n_jobs' > 1 does not have any effect when 'solver' is set to 'liblinear'. Got 'n_jobs' = 10.\n",
      "  warnings.warn(\n",
      "/opt/anaconda3/envs/ML310/lib/python3.10/site-packages/sklearn/linear_model/_logistic.py:1211: UserWarning: 'n_jobs' > 1 does not have any effect when 'solver' is set to 'liblinear'. Got 'n_jobs' = 10.\n",
      "  warnings.warn(\n",
      "/opt/anaconda3/envs/ML310/lib/python3.10/site-packages/sklearn/linear_model/_logistic.py:1211: UserWarning: 'n_jobs' > 1 does not have any effect when 'solver' is set to 'liblinear'. Got 'n_jobs' = 10.\n",
      "  warnings.warn(\n",
      "/opt/anaconda3/envs/ML310/lib/python3.10/site-packages/sklearn/linear_model/_logistic.py:1211: UserWarning: 'n_jobs' > 1 does not have any effect when 'solver' is set to 'liblinear'. Got 'n_jobs' = 10.\n",
      "  warnings.warn(\n",
      "/opt/anaconda3/envs/ML310/lib/python3.10/site-packages/sklearn/linear_model/_logistic.py:1211: UserWarning: 'n_jobs' > 1 does not have any effect when 'solver' is set to 'liblinear'. Got 'n_jobs' = 10.\n",
      "  warnings.warn(\n",
      "/opt/anaconda3/envs/ML310/lib/python3.10/site-packages/sklearn/linear_model/_logistic.py:1211: UserWarning: 'n_jobs' > 1 does not have any effect when 'solver' is set to 'liblinear'. Got 'n_jobs' = 10.\n",
      "  warnings.warn(\n",
      "/opt/anaconda3/envs/ML310/lib/python3.10/site-packages/sklearn/linear_model/_logistic.py:1211: UserWarning: 'n_jobs' > 1 does not have any effect when 'solver' is set to 'liblinear'. Got 'n_jobs' = 10.\n",
      "  warnings.warn(\n",
      "/opt/anaconda3/envs/ML310/lib/python3.10/site-packages/sklearn/linear_model/_logistic.py:1211: UserWarning: 'n_jobs' > 1 does not have any effect when 'solver' is set to 'liblinear'. Got 'n_jobs' = 10.\n",
      "  warnings.warn(\n",
      "/opt/anaconda3/envs/ML310/lib/python3.10/site-packages/sklearn/linear_model/_logistic.py:1211: UserWarning: 'n_jobs' > 1 does not have any effect when 'solver' is set to 'liblinear'. Got 'n_jobs' = 10.\n",
      "  warnings.warn(\n",
      "/opt/anaconda3/envs/ML310/lib/python3.10/site-packages/sklearn/linear_model/_logistic.py:1211: UserWarning: 'n_jobs' > 1 does not have any effect when 'solver' is set to 'liblinear'. Got 'n_jobs' = 10.\n",
      "  warnings.warn(\n",
      "/opt/anaconda3/envs/ML310/lib/python3.10/site-packages/sklearn/linear_model/_logistic.py:1211: UserWarning: 'n_jobs' > 1 does not have any effect when 'solver' is set to 'liblinear'. Got 'n_jobs' = 10.\n",
      "  warnings.warn(\n",
      "/opt/anaconda3/envs/ML310/lib/python3.10/site-packages/sklearn/linear_model/_logistic.py:1211: UserWarning: 'n_jobs' > 1 does not have any effect when 'solver' is set to 'liblinear'. Got 'n_jobs' = 10.\n",
      "  warnings.warn(\n",
      "/opt/anaconda3/envs/ML310/lib/python3.10/site-packages/sklearn/linear_model/_logistic.py:1211: UserWarning: 'n_jobs' > 1 does not have any effect when 'solver' is set to 'liblinear'. Got 'n_jobs' = 10.\n",
      "  warnings.warn(\n"
     ]
    },
    {
     "name": "stdout",
     "output_type": "stream",
     "text": [
      "CPU times: user 653 ms, sys: 206 ms, total: 859 ms\n",
      "Wall time: 1min 2s\n"
     ]
    }
   ],
   "source": [
    "%%time\n",
    "from sklearn.linear_model import LogisticRegression\n",
    "\n",
    "params={'C': [0.001, 0.01, 0.1, 1, 10, 100],\n",
    "        'solver': ['newton-cg', 'lbfgs', 'liblinear', 'sag', 'saga']}\n",
    "\n",
    "estimator=LogisticRegression(penalty='l2', n_jobs=10, random_state=random_state, max_iter=10000, multi_class='ovr')\n",
    "result=model_report(estimator, params, 'Ridge')\n",
    "results=pd.concat([results, result], ignore_index=True)"
   ]
  },
  {
   "cell_type": "markdown",
   "id": "452a3cfc",
   "metadata": {},
   "source": [
    "**SVM**"
   ]
  },
  {
   "cell_type": "code",
   "execution_count": null,
   "id": "ee95df84",
   "metadata": {},
   "outputs": [],
   "source": [
    "%%time\n",
    "from sklearn.svm import SVC\n",
    "\n",
    "params={'C': [0.001, 0.01, 0.1, 1, 10, 100],\n",
    "        'kernel': ['linear', 'rbf']}\n",
    "        \n",
    "estimator=SVC(random_state=random_state, probability=True, decision_function_shape='ovr')\n",
    "result=model_report(estimator, params, 'SVM')\n",
    "results=pd.concat([results, result], ignore_index=True)"
   ]
  },
  {
   "cell_type": "markdown",
   "id": "9b73f5f3",
   "metadata": {},
   "source": [
    "**KNN**"
   ]
  },
  {
   "cell_type": "code",
   "execution_count": null,
   "id": "a115db46",
   "metadata": {},
   "outputs": [],
   "source": [
    "%%time\n",
    "from sklearn.neighbors import KNeighborsClassifier\n",
    "\n",
    "params = {'n_neighbors': [1,3,5,7,9,11],\n",
    "          'algorithm': ['ball_tree', 'kd_tree', 'brute'],\n",
    "          'leaf_size': [10, 30, 50]}\n",
    "          \n",
    "estimator=KNeighborsClassifier(n_jobs=-1)\n",
    "result=model_report(estimator, params, 'KNN')\n",
    "results=pd.concat([results, result], ignore_index=True)"
   ]
  },
  {
   "cell_type": "markdown",
   "id": "795864af",
   "metadata": {},
   "source": [
    "**Random Forest**"
   ]
  },
  {
   "cell_type": "code",
   "execution_count": null,
   "id": "97793e5b",
   "metadata": {},
   "outputs": [],
   "source": [
    "%%time\n",
    "from sklearn.ensemble import RandomForestClassifier\n",
    "\n",
    "params = {'max_depth': [1, 6, None],\n",
    "          'n_estimators': [50, 100, 200],\n",
    "          'criterion': ['gini', 'entropy'],\n",
    "          'min_samples_leaf': [1, 5, 10],    \n",
    "          'max_samples': [0.1, 0.5, None],\n",
    "          'max_leaf_nodes': [10, 31, None],\n",
    "          'ccp_alpha': [0, 0.001, 0.1]}\n",
    "          \n",
    "estimator=RandomForestClassifier(random_state=random_state, n_jobs=-1)\n",
    "result=model_report(estimator, params, 'RF')\n",
    "results=pd.concat([results, result], ignore_index=True)"
   ]
  },
  {
   "cell_type": "markdown",
   "id": "f1eb3bc8",
   "metadata": {},
   "source": [
    "**Gradient Boosting**"
   ]
  },
  {
   "cell_type": "code",
   "execution_count": null,
   "id": "bd354d56",
   "metadata": {},
   "outputs": [],
   "source": [
    "%%time\n",
    "from sklearn.ensemble import GradientBoostingClassifier\n",
    "\n",
    "params = {'learning_rate': [0.1, 0.2, 0.3],\n",
    "           'n_estimators': [50, 100, 200],\n",
    "           'min_samples_leaf': [1, 5, 10],\n",
    "           'min_weight_fraction_leaf': [0.0, 0.1, 0.5],\n",
    "           'max_depth': [1, 3, 6], \n",
    "           'max_leaf_nodes': [10, 31, None],\n",
    "           'ccp_alpha': [0, 0.001, 0.1]}\n",
    "\n",
    "estimator=GradientBoostingClassifier(random_state=random_state, n_iter_no_change=20)\n",
    "result=model_report(estimator, params, 'GB')\n",
    "results=pd.concat([results, result], ignore_index=True)"
   ]
  },
  {
   "cell_type": "markdown",
   "id": "5c8dffe3",
   "metadata": {},
   "source": [
    "## Result  ##"
   ]
  },
  {
   "cell_type": "markdown",
   "id": "177e67e2",
   "metadata": {},
   "source": [
    "Top 10 results are sorted by `MCC` and `F1` score for test set. Among the top 10, grandient boosting and random forest are the most frequently appeared for the best performance."
   ]
  },
  {
   "cell_type": "code",
   "execution_count": null,
   "id": "83492a74",
   "metadata": {
    "scrolled": false
   },
   "outputs": [],
   "source": [
    "results.sort_values(by=['MCC', 'F1'], ascending=False).head(10)[['Model', 'Method', 'n Selected', 'Test Accuracy', 'Precision', 'Recall', 'MCC', 'F1', 'best_params']]"
   ]
  },
  {
   "cell_type": "code",
   "execution_count": null,
   "id": "4283317b",
   "metadata": {
    "scrolled": true
   },
   "outputs": [],
   "source": [
    "results.sort_values(by=['MCC', 'F1'], ascending=False).head(10)['Model'].value_counts().to_frame()"
   ]
  },
  {
   "cell_type": "code",
   "execution_count": null,
   "id": "5c918cf4",
   "metadata": {
    "scrolled": true
   },
   "outputs": [],
   "source": [
    "results.sort_values(by=['MCC', 'F1'], ascending=False).head(10)['n Selected'].value_counts().sort_index().to_frame()"
   ]
  },
  {
   "cell_type": "markdown",
   "id": "f599417d",
   "metadata": {},
   "source": [
    "**Accuracy, MCC and F1 Score**"
   ]
  },
  {
   "cell_type": "code",
   "execution_count": null,
   "id": "8a1afec2",
   "metadata": {},
   "outputs": [],
   "source": [
    "results2 = pd.DataFrame()\n",
    "for col in ['Train Accuracy', 'Test Accuracy', 'MCC', 'F1']:\n",
    "    temp = results[['Model', 'n Selected'] + [col]].copy()\n",
    "    temp['Score'] = col\n",
    "    temp.rename(columns={col: 'Score value'}, inplace=True)\n",
    "    results2 = pd.concat([results2, temp], ignore_index=True)\n",
    "results2=results2.astype({'n Selected': 'int32'})"
   ]
  },
  {
   "cell_type": "code",
   "execution_count": null,
   "id": "7482444a",
   "metadata": {},
   "outputs": [],
   "source": [
    "sns.set(rc={'figure.figsize':(20,20)})\n",
    "sns.set_theme(style='whitegrid')\n",
    "sns.set(font_scale=1.8)\n",
    "\n",
    "g = sns.catplot(x=\"n Selected\", y=\"Score value\", hue=\"Score\", col=\"Model\",\n",
    "                capsize=.2, palette=\"magma\", height=6, aspect=.75,\n",
    "                kind=\"point\", data=results2)\n",
    "g.despine(left=True)\n",
    "plt.show()"
   ]
  },
  {
   "cell_type": "code",
   "execution_count": null,
   "id": "2295e41d",
   "metadata": {},
   "outputs": [],
   "source": [
    "models = results['Model'].unique().tolist()\n",
    "temp=results.sort_values(by=['Model', 'MCC', 'F1'], ascending=False)\n",
    "\n",
    "best_per_model_idx = []\n",
    "for i in range(len(temp.index)):\n",
    "    if i % (n+1) == 0: best_per_model_idx.append(temp.index[i])"
   ]
  },
  {
   "cell_type": "markdown",
   "id": "4eb6d639",
   "metadata": {},
   "source": [
    "**Confusion Matrix**"
   ]
  },
  {
   "cell_type": "code",
   "execution_count": null,
   "id": "b682cdc4",
   "metadata": {},
   "outputs": [],
   "source": [
    "from mlxtend.plotting import plot_confusion_matrix\n",
    "import matplotlib.ticker as mticker\n",
    "\n",
    "def ticks(x, position):\n",
    "    if position == 1: return 'Loss'\n",
    "    if position == 2: return 'Exp'\n",
    "    if position == 3: return 'Gain'\n",
    "    \n",
    "fig, axes=plt.subplots(1,len(best_per_model_idx), figsize=(20,10))\n",
    "sns.set(font_scale=1.2)\n",
    "\n",
    "for idx, i in zip(sorted(best_per_model_idx), range(len(best_per_model_idx))):\n",
    "    plot_confusion_matrix(axis=axes[i], conf_mat=results.loc[idx, 'conf_mat'],\n",
    "                          show_absolute=True, show_normed=True)\n",
    "    title='{} (n={:0.0f})'.format(results.loc[idx, 'Model'], results.loc[idx, 'n Selected'])\n",
    "    axes[i].set_title(title, fontsize=20)\n",
    "    if (i > 0): axes[i].set(xlabel='', ylabel='')\n",
    "    else : axes[i].set(xlabel='Predicted Label', ylabel='True Label')\n",
    "    axes[i].xaxis.set_major_formatter(mticker.FuncFormatter(ticks))\n",
    "    axes[i].yaxis.set_major_formatter(mticker.FuncFormatter(ticks))\n",
    "plt.show()"
   ]
  },
  {
   "cell_type": "markdown",
   "id": "c0a49870",
   "metadata": {},
   "source": [
    "**ROC Curve**"
   ]
  },
  {
   "cell_type": "code",
   "execution_count": null,
   "id": "99a1a5aa",
   "metadata": {},
   "outputs": [],
   "source": [
    "from sklearn.preprocessing import label_binarize\n",
    "from sklearn.metrics import roc_curve, auc\n",
    "\n",
    "classes=[-1, 0, 1]\n",
    "y_test_bin=label_binarize(y_test, classes=classes)\n",
    "\n",
    "fig, axes=plt.subplots(1,len(best_per_model_idx), figsize=(20,5))\n",
    "sns.set(font_scale=1)\n",
    "\n",
    "for idx, i in zip(sorted(best_per_model_idx), range(len(best_per_model_idx))):\n",
    "    fpr, tpr = {}, {}\n",
    "\n",
    "    for c in classes:\n",
    "        fpr[c], tpr[c], _ = roc_curve(y_test_bin[:, c+1], results.loc[idx, 'predict_proba'][:, c+1])\n",
    "        axes[i].plot(fpr[c], tpr[c], lw=2, label='{} (AUC={:0.2f})'.format(ticks(c,c+2), auc(fpr[c], tpr[c])))\n",
    "    \n",
    "    title='{} (n={:0.0f})'.format(results.loc[idx, 'Model'], results.loc[idx, 'n Selected'])\n",
    "    axes[i].set_title(title, fontsize=20)\n",
    "    axes[i].set_xlabel(\"False Postive Rate\")\n",
    "    axes[0].set_ylabel(\"True Positive Rate\")\n",
    "    axes[i].legend(loc=\"best\")\n",
    "\n",
    "plt.show()"
   ]
  },
  {
   "cell_type": "markdown",
   "id": "debbd746",
   "metadata": {},
   "source": [
    "**Precision-Recall Curve**"
   ]
  },
  {
   "cell_type": "code",
   "execution_count": null,
   "id": "2b421842",
   "metadata": {
    "scrolled": true
   },
   "outputs": [],
   "source": [
    "from sklearn.preprocessing import label_binarize\n",
    "from sklearn.metrics import precision_recall_curve\n",
    "\n",
    "classes=[-1, 0, 1]\n",
    "y_test_bin=label_binarize(y_test, classes=classes)\n",
    "\n",
    "fig, axes=plt.subplots(1,len(best_per_model_idx), figsize=(20,5))\n",
    "sns.set(font_scale=1)\n",
    "\n",
    "for idx, i in zip(sorted(best_per_model_idx), range(len(best_per_model_idx))):\n",
    "    prec, rec = {}, {}\n",
    "\n",
    "    for c in classes:\n",
    "        prec[c], rec[c], _ = precision_recall_curve(y_test_bin[:, c+1], results.loc[idx, 'predict_proba'][:, c+1])\n",
    "        axes[i].plot(rec[c], prec[c], lw=2, label='{}'.format(ticks(c,c+2)))\n",
    "    \n",
    "    title='{} (n={:0.0f})'.format(results.loc[idx, 'Model'], results.loc[idx, 'n Selected'])\n",
    "    axes[i].set_title(title, fontsize=20)\n",
    "    axes[i].set_xlabel(\"Recall\")\n",
    "    axes[0].set_ylabel(\"Precision\")\n",
    "    axes[i].legend(loc=\"best\")\n",
    "\n",
    "plt.show()"
   ]
  },
  {
   "cell_type": "code",
   "execution_count": null,
   "id": "9412fe66",
   "metadata": {},
   "outputs": [],
   "source": [
    "results.sort_values(by='MCC', ascending=False).to_csv('Modeling_BL_Math.csv')"
   ]
  },
  {
   "cell_type": "code",
   "execution_count": null,
   "id": "cddf536e",
   "metadata": {},
   "outputs": [],
   "source": []
  }
 ],
 "metadata": {
  "kernelspec": {
   "display_name": "Python 3 (ipykernel)",
   "language": "python",
   "name": "python3"
  },
  "language_info": {
   "codemirror_mode": {
    "name": "ipython",
    "version": 3
   },
   "file_extension": ".py",
   "mimetype": "text/x-python",
   "name": "python",
   "nbconvert_exporter": "python",
   "pygments_lexer": "ipython3",
   "version": "3.10.9"
  },
  "vscode": {
   "interpreter": {
    "hash": "b530cbb57870e8c17e0b147b89ef717ce29e19d06452b992ddf605f8bc0a986d"
   }
  }
 },
 "nbformat": 4,
 "nbformat_minor": 5
}
